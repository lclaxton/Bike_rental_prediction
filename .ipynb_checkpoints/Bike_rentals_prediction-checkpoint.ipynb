{
 "cells": [
  {
   "cell_type": "markdown",
   "metadata": {},
   "source": [
    "This is the bike sharing dataset from Kaggle: https://www.kaggle.com/lakshmi25npathi/bike-sharing-dataset/activity\n"
   ]
  },
  {
   "cell_type": "code",
   "execution_count": 1,
   "metadata": {},
   "outputs": [],
   "source": [
    "import pandas as pd\n",
    "import numpy as np\n",
    "import matplotlib.pyplot as plt\n",
    "import seaborn as sns\n",
    "%matplotlib inline"
   ]
  },
  {
   "cell_type": "code",
   "execution_count": 2,
   "metadata": {},
   "outputs": [
    {
     "name": "stdout",
     "output_type": "stream",
     "text": [
      "<class 'pandas.core.frame.DataFrame'>\n",
      "RangeIndex: 17379 entries, 0 to 17378\n",
      "Data columns (total 17 columns):\n",
      " #   Column      Non-Null Count  Dtype  \n",
      "---  ------      --------------  -----  \n",
      " 0   instant     17379 non-null  int64  \n",
      " 1   dteday      17379 non-null  object \n",
      " 2   season      17379 non-null  int64  \n",
      " 3   yr          17379 non-null  int64  \n",
      " 4   mnth        17379 non-null  int64  \n",
      " 5   hr          17379 non-null  int64  \n",
      " 6   holiday     17379 non-null  int64  \n",
      " 7   weekday     17379 non-null  int64  \n",
      " 8   workingday  17379 non-null  int64  \n",
      " 9   weathersit  17379 non-null  int64  \n",
      " 10  temp        17379 non-null  float64\n",
      " 11  atemp       17379 non-null  float64\n",
      " 12  hum         17379 non-null  float64\n",
      " 13  windspeed   17379 non-null  float64\n",
      " 14  casual      17379 non-null  int64  \n",
      " 15  registered  17379 non-null  int64  \n",
      " 16  cnt         17379 non-null  int64  \n",
      "dtypes: float64(4), int64(12), object(1)\n",
      "memory usage: 2.3+ MB\n"
     ]
    }
   ],
   "source": [
    "# Import dataset\n",
    "df = pd.read_csv('hour.csv')\n",
    "df.info()"
   ]
  },
  {
   "cell_type": "code",
   "execution_count": 3,
   "metadata": {},
   "outputs": [
    {
     "data": {
      "text/html": [
       "<div>\n",
       "<style scoped>\n",
       "    .dataframe tbody tr th:only-of-type {\n",
       "        vertical-align: middle;\n",
       "    }\n",
       "\n",
       "    .dataframe tbody tr th {\n",
       "        vertical-align: top;\n",
       "    }\n",
       "\n",
       "    .dataframe thead th {\n",
       "        text-align: right;\n",
       "    }\n",
       "</style>\n",
       "<table border=\"1\" class=\"dataframe\">\n",
       "  <thead>\n",
       "    <tr style=\"text-align: right;\">\n",
       "      <th></th>\n",
       "      <th>instant</th>\n",
       "      <th>dteday</th>\n",
       "      <th>season</th>\n",
       "      <th>yr</th>\n",
       "      <th>mnth</th>\n",
       "      <th>hr</th>\n",
       "      <th>holiday</th>\n",
       "      <th>weekday</th>\n",
       "      <th>workingday</th>\n",
       "      <th>weathersit</th>\n",
       "      <th>temp</th>\n",
       "      <th>atemp</th>\n",
       "      <th>hum</th>\n",
       "      <th>windspeed</th>\n",
       "      <th>casual</th>\n",
       "      <th>registered</th>\n",
       "      <th>cnt</th>\n",
       "    </tr>\n",
       "  </thead>\n",
       "  <tbody>\n",
       "    <tr>\n",
       "      <th>0</th>\n",
       "      <td>1</td>\n",
       "      <td>2011-01-01</td>\n",
       "      <td>1</td>\n",
       "      <td>0</td>\n",
       "      <td>1</td>\n",
       "      <td>0</td>\n",
       "      <td>0</td>\n",
       "      <td>6</td>\n",
       "      <td>0</td>\n",
       "      <td>1</td>\n",
       "      <td>0.24</td>\n",
       "      <td>0.2879</td>\n",
       "      <td>0.81</td>\n",
       "      <td>0.0</td>\n",
       "      <td>3</td>\n",
       "      <td>13</td>\n",
       "      <td>16</td>\n",
       "    </tr>\n",
       "    <tr>\n",
       "      <th>1</th>\n",
       "      <td>2</td>\n",
       "      <td>2011-01-01</td>\n",
       "      <td>1</td>\n",
       "      <td>0</td>\n",
       "      <td>1</td>\n",
       "      <td>1</td>\n",
       "      <td>0</td>\n",
       "      <td>6</td>\n",
       "      <td>0</td>\n",
       "      <td>1</td>\n",
       "      <td>0.22</td>\n",
       "      <td>0.2727</td>\n",
       "      <td>0.80</td>\n",
       "      <td>0.0</td>\n",
       "      <td>8</td>\n",
       "      <td>32</td>\n",
       "      <td>40</td>\n",
       "    </tr>\n",
       "    <tr>\n",
       "      <th>2</th>\n",
       "      <td>3</td>\n",
       "      <td>2011-01-01</td>\n",
       "      <td>1</td>\n",
       "      <td>0</td>\n",
       "      <td>1</td>\n",
       "      <td>2</td>\n",
       "      <td>0</td>\n",
       "      <td>6</td>\n",
       "      <td>0</td>\n",
       "      <td>1</td>\n",
       "      <td>0.22</td>\n",
       "      <td>0.2727</td>\n",
       "      <td>0.80</td>\n",
       "      <td>0.0</td>\n",
       "      <td>5</td>\n",
       "      <td>27</td>\n",
       "      <td>32</td>\n",
       "    </tr>\n",
       "    <tr>\n",
       "      <th>3</th>\n",
       "      <td>4</td>\n",
       "      <td>2011-01-01</td>\n",
       "      <td>1</td>\n",
       "      <td>0</td>\n",
       "      <td>1</td>\n",
       "      <td>3</td>\n",
       "      <td>0</td>\n",
       "      <td>6</td>\n",
       "      <td>0</td>\n",
       "      <td>1</td>\n",
       "      <td>0.24</td>\n",
       "      <td>0.2879</td>\n",
       "      <td>0.75</td>\n",
       "      <td>0.0</td>\n",
       "      <td>3</td>\n",
       "      <td>10</td>\n",
       "      <td>13</td>\n",
       "    </tr>\n",
       "    <tr>\n",
       "      <th>4</th>\n",
       "      <td>5</td>\n",
       "      <td>2011-01-01</td>\n",
       "      <td>1</td>\n",
       "      <td>0</td>\n",
       "      <td>1</td>\n",
       "      <td>4</td>\n",
       "      <td>0</td>\n",
       "      <td>6</td>\n",
       "      <td>0</td>\n",
       "      <td>1</td>\n",
       "      <td>0.24</td>\n",
       "      <td>0.2879</td>\n",
       "      <td>0.75</td>\n",
       "      <td>0.0</td>\n",
       "      <td>0</td>\n",
       "      <td>1</td>\n",
       "      <td>1</td>\n",
       "    </tr>\n",
       "  </tbody>\n",
       "</table>\n",
       "</div>"
      ],
      "text/plain": [
       "   instant      dteday  season  yr  mnth  hr  holiday  weekday  workingday  \\\n",
       "0        1  2011-01-01       1   0     1   0        0        6           0   \n",
       "1        2  2011-01-01       1   0     1   1        0        6           0   \n",
       "2        3  2011-01-01       1   0     1   2        0        6           0   \n",
       "3        4  2011-01-01       1   0     1   3        0        6           0   \n",
       "4        5  2011-01-01       1   0     1   4        0        6           0   \n",
       "\n",
       "   weathersit  temp   atemp   hum  windspeed  casual  registered  cnt  \n",
       "0           1  0.24  0.2879  0.81        0.0       3          13   16  \n",
       "1           1  0.22  0.2727  0.80        0.0       8          32   40  \n",
       "2           1  0.22  0.2727  0.80        0.0       5          27   32  \n",
       "3           1  0.24  0.2879  0.75        0.0       3          10   13  \n",
       "4           1  0.24  0.2879  0.75        0.0       0           1    1  "
      ]
     },
     "execution_count": 3,
     "metadata": {},
     "output_type": "execute_result"
    }
   ],
   "source": [
    "df.head()"
   ]
  },
  {
   "cell_type": "code",
   "execution_count": 4,
   "metadata": {},
   "outputs": [
    {
     "data": {
      "text/html": [
       "<div>\n",
       "<style scoped>\n",
       "    .dataframe tbody tr th:only-of-type {\n",
       "        vertical-align: middle;\n",
       "    }\n",
       "\n",
       "    .dataframe tbody tr th {\n",
       "        vertical-align: top;\n",
       "    }\n",
       "\n",
       "    .dataframe thead th {\n",
       "        text-align: right;\n",
       "    }\n",
       "</style>\n",
       "<table border=\"1\" class=\"dataframe\">\n",
       "  <thead>\n",
       "    <tr style=\"text-align: right;\">\n",
       "      <th></th>\n",
       "      <th>instant</th>\n",
       "      <th>season</th>\n",
       "      <th>yr</th>\n",
       "      <th>mnth</th>\n",
       "      <th>hr</th>\n",
       "      <th>holiday</th>\n",
       "      <th>weekday</th>\n",
       "      <th>workingday</th>\n",
       "      <th>weathersit</th>\n",
       "      <th>temp</th>\n",
       "      <th>atemp</th>\n",
       "      <th>hum</th>\n",
       "      <th>windspeed</th>\n",
       "      <th>casual</th>\n",
       "      <th>registered</th>\n",
       "      <th>cnt</th>\n",
       "    </tr>\n",
       "  </thead>\n",
       "  <tbody>\n",
       "    <tr>\n",
       "      <th>count</th>\n",
       "      <td>17379.0000</td>\n",
       "      <td>17379.000000</td>\n",
       "      <td>17379.000000</td>\n",
       "      <td>17379.000000</td>\n",
       "      <td>17379.000000</td>\n",
       "      <td>17379.000000</td>\n",
       "      <td>17379.000000</td>\n",
       "      <td>17379.000000</td>\n",
       "      <td>17379.000000</td>\n",
       "      <td>17379.000000</td>\n",
       "      <td>17379.000000</td>\n",
       "      <td>17379.000000</td>\n",
       "      <td>17379.000000</td>\n",
       "      <td>17379.000000</td>\n",
       "      <td>17379.000000</td>\n",
       "      <td>17379.000000</td>\n",
       "    </tr>\n",
       "    <tr>\n",
       "      <th>mean</th>\n",
       "      <td>8690.0000</td>\n",
       "      <td>2.501640</td>\n",
       "      <td>0.502561</td>\n",
       "      <td>6.537775</td>\n",
       "      <td>11.546752</td>\n",
       "      <td>0.028770</td>\n",
       "      <td>3.003683</td>\n",
       "      <td>0.682721</td>\n",
       "      <td>1.425283</td>\n",
       "      <td>0.496987</td>\n",
       "      <td>0.475775</td>\n",
       "      <td>0.627229</td>\n",
       "      <td>0.190098</td>\n",
       "      <td>35.676218</td>\n",
       "      <td>153.786869</td>\n",
       "      <td>189.463088</td>\n",
       "    </tr>\n",
       "    <tr>\n",
       "      <th>std</th>\n",
       "      <td>5017.0295</td>\n",
       "      <td>1.106918</td>\n",
       "      <td>0.500008</td>\n",
       "      <td>3.438776</td>\n",
       "      <td>6.914405</td>\n",
       "      <td>0.167165</td>\n",
       "      <td>2.005771</td>\n",
       "      <td>0.465431</td>\n",
       "      <td>0.639357</td>\n",
       "      <td>0.192556</td>\n",
       "      <td>0.171850</td>\n",
       "      <td>0.192930</td>\n",
       "      <td>0.122340</td>\n",
       "      <td>49.305030</td>\n",
       "      <td>151.357286</td>\n",
       "      <td>181.387599</td>\n",
       "    </tr>\n",
       "    <tr>\n",
       "      <th>min</th>\n",
       "      <td>1.0000</td>\n",
       "      <td>1.000000</td>\n",
       "      <td>0.000000</td>\n",
       "      <td>1.000000</td>\n",
       "      <td>0.000000</td>\n",
       "      <td>0.000000</td>\n",
       "      <td>0.000000</td>\n",
       "      <td>0.000000</td>\n",
       "      <td>1.000000</td>\n",
       "      <td>0.020000</td>\n",
       "      <td>0.000000</td>\n",
       "      <td>0.000000</td>\n",
       "      <td>0.000000</td>\n",
       "      <td>0.000000</td>\n",
       "      <td>0.000000</td>\n",
       "      <td>1.000000</td>\n",
       "    </tr>\n",
       "    <tr>\n",
       "      <th>25%</th>\n",
       "      <td>4345.5000</td>\n",
       "      <td>2.000000</td>\n",
       "      <td>0.000000</td>\n",
       "      <td>4.000000</td>\n",
       "      <td>6.000000</td>\n",
       "      <td>0.000000</td>\n",
       "      <td>1.000000</td>\n",
       "      <td>0.000000</td>\n",
       "      <td>1.000000</td>\n",
       "      <td>0.340000</td>\n",
       "      <td>0.333300</td>\n",
       "      <td>0.480000</td>\n",
       "      <td>0.104500</td>\n",
       "      <td>4.000000</td>\n",
       "      <td>34.000000</td>\n",
       "      <td>40.000000</td>\n",
       "    </tr>\n",
       "    <tr>\n",
       "      <th>50%</th>\n",
       "      <td>8690.0000</td>\n",
       "      <td>3.000000</td>\n",
       "      <td>1.000000</td>\n",
       "      <td>7.000000</td>\n",
       "      <td>12.000000</td>\n",
       "      <td>0.000000</td>\n",
       "      <td>3.000000</td>\n",
       "      <td>1.000000</td>\n",
       "      <td>1.000000</td>\n",
       "      <td>0.500000</td>\n",
       "      <td>0.484800</td>\n",
       "      <td>0.630000</td>\n",
       "      <td>0.194000</td>\n",
       "      <td>17.000000</td>\n",
       "      <td>115.000000</td>\n",
       "      <td>142.000000</td>\n",
       "    </tr>\n",
       "    <tr>\n",
       "      <th>75%</th>\n",
       "      <td>13034.5000</td>\n",
       "      <td>3.000000</td>\n",
       "      <td>1.000000</td>\n",
       "      <td>10.000000</td>\n",
       "      <td>18.000000</td>\n",
       "      <td>0.000000</td>\n",
       "      <td>5.000000</td>\n",
       "      <td>1.000000</td>\n",
       "      <td>2.000000</td>\n",
       "      <td>0.660000</td>\n",
       "      <td>0.621200</td>\n",
       "      <td>0.780000</td>\n",
       "      <td>0.253700</td>\n",
       "      <td>48.000000</td>\n",
       "      <td>220.000000</td>\n",
       "      <td>281.000000</td>\n",
       "    </tr>\n",
       "    <tr>\n",
       "      <th>max</th>\n",
       "      <td>17379.0000</td>\n",
       "      <td>4.000000</td>\n",
       "      <td>1.000000</td>\n",
       "      <td>12.000000</td>\n",
       "      <td>23.000000</td>\n",
       "      <td>1.000000</td>\n",
       "      <td>6.000000</td>\n",
       "      <td>1.000000</td>\n",
       "      <td>4.000000</td>\n",
       "      <td>1.000000</td>\n",
       "      <td>1.000000</td>\n",
       "      <td>1.000000</td>\n",
       "      <td>0.850700</td>\n",
       "      <td>367.000000</td>\n",
       "      <td>886.000000</td>\n",
       "      <td>977.000000</td>\n",
       "    </tr>\n",
       "  </tbody>\n",
       "</table>\n",
       "</div>"
      ],
      "text/plain": [
       "          instant        season            yr          mnth            hr  \\\n",
       "count  17379.0000  17379.000000  17379.000000  17379.000000  17379.000000   \n",
       "mean    8690.0000      2.501640      0.502561      6.537775     11.546752   \n",
       "std     5017.0295      1.106918      0.500008      3.438776      6.914405   \n",
       "min        1.0000      1.000000      0.000000      1.000000      0.000000   \n",
       "25%     4345.5000      2.000000      0.000000      4.000000      6.000000   \n",
       "50%     8690.0000      3.000000      1.000000      7.000000     12.000000   \n",
       "75%    13034.5000      3.000000      1.000000     10.000000     18.000000   \n",
       "max    17379.0000      4.000000      1.000000     12.000000     23.000000   \n",
       "\n",
       "            holiday       weekday    workingday    weathersit          temp  \\\n",
       "count  17379.000000  17379.000000  17379.000000  17379.000000  17379.000000   \n",
       "mean       0.028770      3.003683      0.682721      1.425283      0.496987   \n",
       "std        0.167165      2.005771      0.465431      0.639357      0.192556   \n",
       "min        0.000000      0.000000      0.000000      1.000000      0.020000   \n",
       "25%        0.000000      1.000000      0.000000      1.000000      0.340000   \n",
       "50%        0.000000      3.000000      1.000000      1.000000      0.500000   \n",
       "75%        0.000000      5.000000      1.000000      2.000000      0.660000   \n",
       "max        1.000000      6.000000      1.000000      4.000000      1.000000   \n",
       "\n",
       "              atemp           hum     windspeed        casual    registered  \\\n",
       "count  17379.000000  17379.000000  17379.000000  17379.000000  17379.000000   \n",
       "mean       0.475775      0.627229      0.190098     35.676218    153.786869   \n",
       "std        0.171850      0.192930      0.122340     49.305030    151.357286   \n",
       "min        0.000000      0.000000      0.000000      0.000000      0.000000   \n",
       "25%        0.333300      0.480000      0.104500      4.000000     34.000000   \n",
       "50%        0.484800      0.630000      0.194000     17.000000    115.000000   \n",
       "75%        0.621200      0.780000      0.253700     48.000000    220.000000   \n",
       "max        1.000000      1.000000      0.850700    367.000000    886.000000   \n",
       "\n",
       "                cnt  \n",
       "count  17379.000000  \n",
       "mean     189.463088  \n",
       "std      181.387599  \n",
       "min        1.000000  \n",
       "25%       40.000000  \n",
       "50%      142.000000  \n",
       "75%      281.000000  \n",
       "max      977.000000  "
      ]
     },
     "execution_count": 4,
     "metadata": {},
     "output_type": "execute_result"
    }
   ],
   "source": [
    "df.describe()"
   ]
  },
  {
   "cell_type": "code",
   "execution_count": 5,
   "metadata": {},
   "outputs": [],
   "source": [
    "# Dropping the instant column as its just another index\n",
    "df.drop('instant',axis=1,inplace=True)\n",
    "# Converting the dteday to a datetime variable\n",
    "df['dteday'] = pd.to_datetime(df['dteday'])"
   ]
  },
  {
   "cell_type": "code",
   "execution_count": 6,
   "metadata": {},
   "outputs": [],
   "source": [
    "df['yr'] = df['dteday'].apply(lambda x : x.year)"
   ]
  },
  {
   "cell_type": "markdown",
   "metadata": {},
   "source": [
    "I first want to check that there are an approximately equal number of data points for each season, year, month and weekday"
   ]
  },
  {
   "cell_type": "code",
   "execution_count": 7,
   "metadata": {},
   "outputs": [
    {
     "data": {
      "text/plain": [
       "<matplotlib.axes._subplots.AxesSubplot at 0x21f1ea75508>"
      ]
     },
     "execution_count": 7,
     "metadata": {},
     "output_type": "execute_result"
    },
    {
     "data": {
      "image/png": "[encoded data removed]",
      "text/plain": [
       "<Figure size 1080x720 with 4 Axes>"
      ]
     },
     "metadata": {
      "needs_background": "light"
     },
     "output_type": "display_data"
    }
   ],
   "source": [
    "fig,axes = plt.subplots(2,2,figsize=(15,10))\n",
    "axes = axes.ravel()\n",
    "sns.countplot(x='mnth',\n",
    "              data=df,ax=axes[0],\n",
    "              palette='Pastel1',\n",
    "             edgecolor='k')\n",
    "sns.countplot(x='weekday',\n",
    "              data=df,\n",
    "              ax=axes[1],\n",
    "             palette = 'Pastel1',\n",
    "             edgecolor='k')\n",
    "sns.countplot(x='yr',\n",
    "              data=df,\n",
    "              ax=axes[2],\n",
    "             palette = 'Pastel1',\n",
    "             edgecolor='k')\n",
    "sns.countplot(x='season',\n",
    "              data=df,\n",
    "              ax=axes[3],\n",
    "             palette = 'Pastel1',\n",
    "             edgecolor='k')"
   ]
  },
  {
   "cell_type": "code",
   "execution_count": 8,
   "metadata": {},
   "outputs": [
    {
     "data": {
      "text/plain": [
       "Text(0, 0.5, 'Number of instances')"
      ]
     },
     "execution_count": 8,
     "metadata": {},
     "output_type": "execute_result"
    },
    {
     "data": {
      "image/png": "[encoded data removed]",
      "text/plain": [
       "<Figure size 1080x360 with 1 Axes>"
      ]
     },
     "metadata": {
      "needs_background": "light"
     },
     "output_type": "display_data"
    }
   ],
   "source": [
    "plt.figure(figsize=(15,5))\n",
    "a,b,c = plt.hist(df.cnt,bins=50,edgecolor='k')\n",
    "plt.xlabel('Bike Count')\n",
    "plt.ylabel('Number of instances')"
   ]
  },
  {
   "cell_type": "markdown",
   "metadata": {},
   "source": [
    "This dataset was selected is particulary clean. Although this isn't representative of a real world dataset, I wanted to focus on ML with this data set rather than data cleaning"
   ]
  },
  {
   "cell_type": "code",
   "execution_count": 20,
   "metadata": {},
   "outputs": [],
   "source": [
    "from sklearn.model_selection import train_test_split\n",
    "from sklearn.preprocessing import StandardScaler\n",
    "from sklearn.linear_model import LinearRegression"
   ]
  },
  {
   "cell_type": "code",
   "execution_count": 10,
   "metadata": {},
   "outputs": [],
   "source": [
    "x = df.iloc[:,1:-3].values\n",
    "y = df.iloc[:,-1].values\n",
    "X_train, x_test, Y_train, y_test = train_test_split(x, y,random_state=42,test_size=0.33)"
   ]
  },
  {
   "cell_type": "code",
   "execution_count": 11,
   "metadata": {},
   "outputs": [
    {
     "data": {
      "text/plain": [
       "<matplotlib.legend.Legend at 0x25efdd3fb88>"
      ]
     },
     "execution_count": 11,
     "metadata": {},
     "output_type": "execute_result"
    },
    {
     "data": {
      "image/png": "[encoded data removed]",
      "text/plain": [
       "<Figure size 1080x360 with 1 Axes>"
      ]
     },
     "metadata": {
      "needs_background": "light"
     },
     "output_type": "display_data"
    }
   ],
   "source": [
    "plt.figure(figsize=(15,5))\n",
    "_ = plt.hist(Y_train,bins=50,label='Y_train',histtype='step',density=True)\n",
    "_ = plt.hist(y_test,bins=50,label='Y_test',histtype='step',density=True)\n",
    "plt.xlabel('Bike Count')\n",
    "plt.ylabel('Number of instances')\n",
    "plt.legend()"
   ]
  },
  {
   "cell_type": "code",
   "execution_count": 12,
   "metadata": {},
   "outputs": [],
   "source": [
    "scaler = StandardScaler()"
   ]
  },
  {
   "cell_type": "code",
   "execution_count": 13,
   "metadata": {},
   "outputs": [],
   "source": [
    "X_train = scaler.fit_transform(X_train)\n",
    "x_test = scaler.transform(x_test)"
   ]
  },
  {
   "cell_type": "code",
   "execution_count": 14,
   "metadata": {},
   "outputs": [],
   "source": [
    "lr = LinearRegression()\n",
    "lrm = lr.fit(X_train,Y_train)"
   ]
  },
  {
   "cell_type": "code",
   "execution_count": 15,
   "metadata": {},
   "outputs": [
    {
     "name": "stdout",
     "output_type": "stream",
     "text": [
      "0.39139163128590015\n"
     ]
    },
    {
     "data": {
      "image/png": "[encoded data removed]",
      "text/plain": [
       "<Figure size 720x360 with 1 Axes>"
      ]
     },
     "metadata": {
      "needs_background": "light"
     },
     "output_type": "display_data"
    }
   ],
   "source": [
    "plt.figure(figsize=(10,5))\n",
    "_ = plt.title('Linear Regression Model')\n",
    "plt.plot(y_test,lrm.predict(x_test),\n",
    "         linestyle='none',\n",
    "         marker='o',\n",
    "         mfc='none',\n",
    "         mec='k',\n",
    "        alpha=0.5,\n",
    "        ms=1)\n",
    "plt.plot(np.linspace(0,max(y_test)),np.linspace(0,max(lrm.predict(x_test))))\n",
    "plt.xlabel('Bike Count acutal')\n",
    "plt.ylabel('Bike Count predicted')\n",
    "print(lrm.score(x_test,y_test))"
   ]
  },
  {
   "cell_type": "markdown",
   "metadata": {},
   "source": [
    "# Lets try a decision tree"
   ]
  },
  {
   "cell_type": "code",
   "execution_count": 21,
   "metadata": {},
   "outputs": [],
   "source": [
    "from sklearn.tree import DecisionTreeRegressor\n",
    "from sklearn.model_selection import GridSearchCV\n",
    "from sklearn.model_selection import RandomizedSearchCV"
   ]
  },
  {
   "cell_type": "code",
   "execution_count": 17,
   "metadata": {},
   "outputs": [],
   "source": [
    "param_dist = {'max_depth': np.arange(1,30),\n",
    "              'min_samples_leaf':np.arange(1,60,3),\n",
    "             'max_features':['auto', 'sqrt','log2']}\n",
    "clf = GridSearchCV(DecisionTreeRegressor(), param_dist,cv=10)"
   ]
  },
  {
   "cell_type": "code",
   "execution_count": 18,
   "metadata": {},
   "outputs": [
    {
     "data": {
      "text/plain": [
       "{'max_depth': 28, 'max_features': 'auto', 'min_samples_leaf': 7}"
      ]
     },
     "execution_count": 18,
     "metadata": {},
     "output_type": "execute_result"
    }
   ],
   "source": [
    "clf.fit(X_train,Y_train)\n",
    "clf.best_params_"
   ]
  },
  {
   "cell_type": "code",
   "execution_count": 64,
   "metadata": {},
   "outputs": [
    {
     "data": {
      "text/plain": [
       "DecisionTreeRegressor(max_depth=20, max_features='auto', min_samples_leaf=6)"
      ]
     },
     "execution_count": 64,
     "metadata": {},
     "output_type": "execute_result"
    }
   ],
   "source": [
    "best_tree = DecisionTreeRegressor(max_features= 'auto', max_depth= 20,min_samples_leaf=6)\n",
    "best_tree.fit(X_train,Y_train)"
   ]
  },
  {
   "cell_type": "code",
   "execution_count": 68,
   "metadata": {},
   "outputs": [
    {
     "name": "stdout",
     "output_type": "stream",
     "text": [
      "0.9138689512419957\n"
     ]
    },
    {
     "data": {
      "image/png": "[encoded data removed]",
      "text/plain": [
       "<Figure size 720x360 with 1 Axes>"
      ]
     },
     "metadata": {
      "needs_background": "light"
     },
     "output_type": "display_data"
    }
   ],
   "source": [
    "plt.figure(figsize=(10,5))\n",
    "_ = plt.title('Decision Tree')\n",
    "plt.plot(y_test,best_tree.predict(x_test),\n",
    "         linestyle='none',\n",
    "         marker='o',\n",
    "         mfc='none',\n",
    "         mec='k',\n",
    "        alpha=0.5,\n",
    "        ms=1)\n",
    "plt.plot(np.linspace(0,max(y_test)),np.linspace(0,max(best_tree.predict(x_test))))\n",
    "plt.xlabel('Bike Count acutal')\n",
    "plt.ylabel('Bike Count predicted')\n",
    "print(best_tree.score(x_test, y_test))"
   ]
  },
  {
   "cell_type": "code",
   "execution_count": 70,
   "metadata": {},
   "outputs": [
    {
     "data": {
      "text/plain": [
       "array([355.14285714,  83.        ,  11.81818182, ..., 153.66666667,\n",
       "       514.28571429, 125.875     ])"
      ]
     },
     "execution_count": 70,
     "metadata": {},
     "output_type": "execute_result"
    }
   ],
   "source": [
    "best_tree.predict(x_test)"
   ]
  },
  {
   "cell_type": "code",
   "execution_count": 121,
   "metadata": {},
   "outputs": [],
   "source": [
    "tree_misfit = sum((y_test - best_tree.predict(x_test).flatten())**2)"
   ]
  },
  {
   "cell_type": "markdown",
   "metadata": {},
   "source": [
    "# Moving on to trying a neural network"
   ]
  },
  {
   "cell_type": "markdown",
   "metadata": {},
   "source": [
    "Althought the decision tree did rather well I want to practice working with and tuning a neural network, so this next section focuses on that. "
   ]
  },
  {
   "cell_type": "code",
   "execution_count": 13,
   "metadata": {},
   "outputs": [
    {
     "name": "stderr",
     "output_type": "stream",
     "text": [
      "Using TensorFlow backend.\n"
     ]
    }
   ],
   "source": [
    "# importing the Keras libs\n",
    "\n",
    "from keras.models import Sequential\n",
    "from keras.layers import Dense\n",
    "from keras.layers import Dropout\n",
    "from keras.wrappers.scikit_learn import KerasRegressor\n",
    "from sklearn.model_selection import cross_val_score\n",
    "from sklearn.model_selection import KFold\n",
    "from keras.optimizers import SGD"
   ]
  },
  {
   "cell_type": "code",
   "execution_count": 30,
   "metadata": {},
   "outputs": [],
   "source": [
    "# Defining the base model\n",
    "def base_model(optimizer='adam'):\n",
    "    model = Sequential()\n",
    "    model.add(Dense(units=12,input_dim=12,kernel_initializer = 'normal',activation = 'relu'))\n",
    "    model.add(Dense(units=7))\n",
    "    model.add(Dense(units=1))\n",
    "    model.compile(loss='mean_squared_error',optimizer=optimizer)\n",
    "    return model"
   ]
  },
  {
   "cell_type": "code",
   "execution_count": 49,
   "metadata": {},
   "outputs": [],
   "source": [
    "base_regressor = KerasRegressor(build_fn=base_model, epochs=100, batch_size=20,verbose=1)"
   ]
  },
  {
   "cell_type": "code",
   "execution_count": 53,
   "metadata": {},
   "outputs": [],
   "source": [
    "# Work out the mean loss of each CV regressor on the data\n",
    "accuracies = cross_val_score(estimator = base_regressor, X = X_train, y = Y_train, cv = 10, n_jobs = -1)"
   ]
  },
  {
   "cell_type": "code",
   "execution_count": 58,
   "metadata": {},
   "outputs": [
    {
     "data": {
      "image/png": "[encoded data removed]",
      "text/plain": [
       "<Figure size 432x288 with 1 Axes>"
      ]
     },
     "metadata": {
      "needs_background": "light"
     },
     "output_type": "display_data"
    }
   ],
   "source": [
    "_ = plt.hist(accuracies,bins=10,edgecolor='k')\n",
    "_ = plt.xlabel('Mean Loss')\n",
    "_ = plt.ylabel('Count')"
   ]
  },
  {
   "cell_type": "code",
   "execution_count": null,
   "metadata": {},
   "outputs": [],
   "source": [
    "# Appears one of the cross validation runs is doing much worse than the other 9"
   ]
  },
  {
   "cell_type": "code",
   "execution_count": 31,
   "metadata": {},
   "outputs": [],
   "source": [
    "base_regressor = KerasRegressor(build_fn=base_model)"
   ]
  },
  {
   "cell_type": "code",
   "execution_count": 49,
   "metadata": {},
   "outputs": [],
   "source": [
    "parameters = {'batch_size': [3,5,7,10],\n",
    "              'epochs': [100,150,200,250],\n",
    "             'optimizer': ['adam','RMSprop']}"
   ]
  },
  {
   "cell_type": "code",
   "execution_count": 50,
   "metadata": {},
   "outputs": [],
   "source": [
    "grid_search = GridSearchCV(estimator = base_regressor,\n",
    "                           param_grid = parameters,\n",
    "                           cv=5,\n",
    "                           n_jobs = -1)"
   ]
  },
  {
   "cell_type": "code",
   "execution_count": 52,
   "metadata": {},
   "outputs": [
    {
     "name": "stdout",
     "output_type": "stream",
     "text": [
      "Epoch 1/150\n",
      "11643/11643 [==============================] - 1s 113us/step - loss: 32917.7833\n",
      "Epoch 2/150\n",
      "11643/11643 [==============================] - 1s 107us/step - loss: 28479.5557\n",
      "Epoch 3/150\n",
      "11643/11643 [==============================] - 1s 106us/step - loss: 25969.5946\n",
      "Epoch 4/150\n",
      "11643/11643 [==============================] - 1s 105us/step - loss: 25352.0533\n",
      "Epoch 5/150\n",
      "11643/11643 [==============================] - 1s 105us/step - loss: 25023.7554\n",
      "Epoch 6/150\n",
      "11643/11643 [==============================] - 1s 106us/step - loss: 24774.6365\n",
      "Epoch 7/150\n",
      "11643/11643 [==============================] - 1s 106us/step - loss: 24497.6067\n",
      "Epoch 8/150\n",
      "11643/11643 [==============================] - 1s 105us/step - loss: 24359.3346\n",
      "Epoch 9/150\n",
      "11643/11643 [==============================] - 1s 107us/step - loss: 24037.7024\n",
      "Epoch 10/150\n",
      "11643/11643 [==============================] - 1s 105us/step - loss: 23721.5580\n",
      "Epoch 11/150\n",
      "11643/11643 [==============================] - 1s 105us/step - loss: 23322.7231\n",
      "Epoch 12/150\n",
      "11643/11643 [==============================] - 1s 105us/step - loss: 22920.7645\n",
      "Epoch 13/150\n",
      "11643/11643 [==============================] - 1s 105us/step - loss: 22712.6479\n",
      "Epoch 14/150\n",
      "11643/11643 [==============================] - 1s 105us/step - loss: 22463.4036\n",
      "Epoch 15/150\n",
      "11643/11643 [==============================] - 1s 105us/step - loss: 22204.1302\n",
      "Epoch 16/150\n",
      "11643/11643 [==============================] - 1s 105us/step - loss: 22083.4891\n",
      "Epoch 17/150\n",
      "11643/11643 [==============================] - 1s 106us/step - loss: 21873.5677\n",
      "Epoch 18/150\n",
      "11643/11643 [==============================] - 1s 106us/step - loss: 21658.5814\n",
      "Epoch 19/150\n",
      "11643/11643 [==============================] - 1s 105us/step - loss: 21556.0729\n",
      "Epoch 20/150\n",
      "11643/11643 [==============================] - 1s 106us/step - loss: 21145.9685\n",
      "Epoch 21/150\n",
      "11643/11643 [==============================] - 1s 105us/step - loss: 20473.1114\n",
      "Epoch 22/150\n",
      "11643/11643 [==============================] - 1s 106us/step - loss: 19815.7343\n",
      "Epoch 23/150\n",
      "11643/11643 [==============================] - 1s 106us/step - loss: 19218.3388\n",
      "Epoch 24/150\n",
      "11643/11643 [==============================] - 1s 106us/step - loss: 18862.3728\n",
      "Epoch 25/150\n",
      "11643/11643 [==============================] - 1s 105us/step - loss: 18624.9404\n",
      "Epoch 26/150\n",
      "11643/11643 [==============================] - 1s 106us/step - loss: 18510.2221\n",
      "Epoch 27/150\n",
      "11643/11643 [==============================] - 1s 105us/step - loss: 18428.9425\n",
      "Epoch 28/150\n",
      "11643/11643 [==============================] - 1s 104us/step - loss: 18239.8879\n",
      "Epoch 29/150\n",
      "11643/11643 [==============================] - 1s 104us/step - loss: 18163.8168\n",
      "Epoch 30/150\n",
      "11643/11643 [==============================] - 1s 104us/step - loss: 18127.0309\n",
      "Epoch 31/150\n",
      "11643/11643 [==============================] - 1s 104us/step - loss: 17946.7870\n",
      "Epoch 32/150\n",
      "11643/11643 [==============================] - 1s 104us/step - loss: 18132.4829\n",
      "Epoch 33/150\n",
      "11643/11643 [==============================] - 1s 104us/step - loss: 17999.3643\n",
      "Epoch 34/150\n",
      "11643/11643 [==============================] - 1s 104us/step - loss: 18028.5268\n",
      "Epoch 35/150\n",
      "11643/11643 [==============================] - 1s 104us/step - loss: 17983.3795\n",
      "Epoch 36/150\n",
      "11643/11643 [==============================] - 1s 104us/step - loss: 17866.0939\n",
      "Epoch 37/150\n",
      "11643/11643 [==============================] - 1s 104us/step - loss: 17818.9579\n",
      "Epoch 38/150\n",
      "11643/11643 [==============================] - 1s 104us/step - loss: 17801.9124\n",
      "Epoch 39/150\n",
      "11643/11643 [==============================] - 1s 105us/step - loss: 17736.2915\n",
      "Epoch 40/150\n",
      "11643/11643 [==============================] - 1s 103us/step - loss: 17831.5856\n",
      "Epoch 41/150\n",
      "11643/11643 [==============================] - 1s 104us/step - loss: 17669.6678\n",
      "Epoch 42/150\n",
      "11643/11643 [==============================] - 1s 104us/step - loss: 17705.8389\n",
      "Epoch 43/150\n",
      "11643/11643 [==============================] - 1s 103us/step - loss: 17682.2295\n",
      "Epoch 44/150\n",
      "11643/11643 [==============================] - 1s 104us/step - loss: 17674.0410\n",
      "Epoch 45/150\n",
      "11643/11643 [==============================] - 1s 103us/step - loss: 17794.2653\n",
      "Epoch 46/150\n",
      "11643/11643 [==============================] - 1s 104us/step - loss: 17672.5734\n",
      "Epoch 47/150\n",
      "11643/11643 [==============================] - 1s 104us/step - loss: 17702.6515\n",
      "Epoch 48/150\n",
      "11643/11643 [==============================] - 1s 104us/step - loss: 17678.9877\n",
      "Epoch 49/150\n",
      "11643/11643 [==============================] - 1s 104us/step - loss: 17640.5404\n",
      "Epoch 50/150\n",
      "11643/11643 [==============================] - 1s 104us/step - loss: 17564.6009\n",
      "Epoch 51/150\n",
      "11643/11643 [==============================] - 1s 104us/step - loss: 17600.7730\n",
      "Epoch 52/150\n",
      "11643/11643 [==============================] - 1s 105us/step - loss: 17623.4003\n",
      "Epoch 53/150\n",
      "11643/11643 [==============================] - 1s 106us/step - loss: 17493.6336\n",
      "Epoch 54/150\n",
      "11643/11643 [==============================] - 1s 106us/step - loss: 17525.3000\n",
      "Epoch 55/150\n",
      "11643/11643 [==============================] - 1s 106us/step - loss: 17587.1110\n",
      "Epoch 56/150\n",
      "11643/11643 [==============================] - 1s 106us/step - loss: 17552.7480\n",
      "Epoch 57/150\n",
      "11643/11643 [==============================] - 1s 106us/step - loss: 17560.2542\n",
      "Epoch 58/150\n",
      "11643/11643 [==============================] - 1s 106us/step - loss: 17544.2511\n",
      "Epoch 59/150\n",
      "11643/11643 [==============================] - 1s 106us/step - loss: 17501.1425\n",
      "Epoch 60/150\n",
      "11643/11643 [==============================] - 1s 106us/step - loss: 17474.6914\n",
      "Epoch 61/150\n",
      "11643/11643 [==============================] - 1s 105us/step - loss: 17355.2008\n",
      "Epoch 62/150\n",
      "11643/11643 [==============================] - 1s 106us/step - loss: 17480.7894\n",
      "Epoch 63/150\n",
      "11643/11643 [==============================] - 1s 106us/step - loss: 17419.6362\n",
      "Epoch 64/150\n",
      "11643/11643 [==============================] - 1s 105us/step - loss: 17451.6694\n",
      "Epoch 65/150\n",
      "11643/11643 [==============================] - 1s 108us/step - loss: 17419.0318\n",
      "Epoch 66/150\n",
      "11643/11643 [==============================] - 1s 105us/step - loss: 17463.7958\n",
      "Epoch 67/150\n",
      "11643/11643 [==============================] - 1s 105us/step - loss: 17355.7785\n",
      "Epoch 68/150\n",
      "11643/11643 [==============================] - 1s 105us/step - loss: 17410.2891\n",
      "Epoch 69/150\n",
      "11643/11643 [==============================] - 1s 105us/step - loss: 17361.7670\n",
      "Epoch 70/150\n",
      "11643/11643 [==============================] - 1s 105us/step - loss: 17354.7995\n",
      "Epoch 71/150\n",
      "11643/11643 [==============================] - 1s 104us/step - loss: 17463.2121\n",
      "Epoch 72/150\n",
      "11643/11643 [==============================] - 1s 105us/step - loss: 17368.2484\n",
      "Epoch 73/150\n",
      "11643/11643 [==============================] - 1s 104us/step - loss: 17343.0244\n",
      "Epoch 74/150\n",
      "11643/11643 [==============================] - 1s 105us/step - loss: 17283.0143\n",
      "Epoch 75/150\n",
      "11643/11643 [==============================] - 1s 105us/step - loss: 17322.0869\n",
      "Epoch 76/150\n",
      "11643/11643 [==============================] - 1s 106us/step - loss: 17279.3940\n",
      "Epoch 77/150\n",
      "11643/11643 [==============================] - 1s 107us/step - loss: 17362.3837\n",
      "Epoch 78/150\n",
      "11643/11643 [==============================] - 1s 107us/step - loss: 17297.4140\n",
      "Epoch 79/150\n",
      "11643/11643 [==============================] - 1s 106us/step - loss: 17309.5919\n",
      "Epoch 80/150\n",
      "11643/11643 [==============================] - 1s 106us/step - loss: 17354.6993\n",
      "Epoch 81/150\n",
      "11643/11643 [==============================] - 1s 106us/step - loss: 17255.9106\n",
      "Epoch 82/150\n",
      "11643/11643 [==============================] - 1s 107us/step - loss: 17264.4780\n",
      "Epoch 83/150\n",
      "11643/11643 [==============================] - 1s 107us/step - loss: 17233.0149\n",
      "Epoch 84/150\n",
      "11643/11643 [==============================] - 1s 107us/step - loss: 17308.1781\n",
      "Epoch 85/150\n",
      "11643/11643 [==============================] - 1s 106us/step - loss: 17220.2573\n",
      "Epoch 86/150\n",
      "11643/11643 [==============================] - 1s 107us/step - loss: 17201.6943\n",
      "Epoch 87/150\n",
      "11643/11643 [==============================] - 1s 106us/step - loss: 17213.2995\n",
      "Epoch 88/150\n",
      "11643/11643 [==============================] - 1s 106us/step - loss: 17330.5046\n",
      "Epoch 89/150\n",
      "11643/11643 [==============================] - 1s 106us/step - loss: 17244.1689\n",
      "Epoch 90/150\n",
      "11643/11643 [==============================] - 1s 106us/step - loss: 17333.1108\n",
      "Epoch 91/150\n",
      "11643/11643 [==============================] - 1s 106us/step - loss: 17320.4708\n",
      "Epoch 92/150\n",
      "11643/11643 [==============================] - 1s 106us/step - loss: 17253.3405\n",
      "Epoch 93/150\n",
      "11643/11643 [==============================] - 1s 106us/step - loss: 17263.1934\n",
      "Epoch 94/150\n",
      "11643/11643 [==============================] - 1s 107us/step - loss: 17221.4328\n",
      "Epoch 95/150\n",
      "11643/11643 [==============================] - 1s 106us/step - loss: 17143.4815\n",
      "Epoch 96/150\n",
      "11643/11643 [==============================] - 1s 106us/step - loss: 17206.3008\n",
      "Epoch 97/150\n",
      "11643/11643 [==============================] - 1s 106us/step - loss: 17213.1807\n",
      "Epoch 98/150\n",
      "11643/11643 [==============================] - 1s 106us/step - loss: 17250.1385\n",
      "Epoch 99/150\n",
      "11643/11643 [==============================] - 1s 106us/step - loss: 17127.1076\n",
      "Epoch 100/150\n",
      "11643/11643 [==============================] - ETA: 0s - loss: 17203.930 - 1s 106us/step - loss: 17218.7427\n",
      "Epoch 101/150\n",
      "11643/11643 [==============================] - 1s 106us/step - loss: 17219.6501\n",
      "Epoch 102/150\n",
      "11643/11643 [==============================] - 1s 106us/step - loss: 17188.0625\n",
      "Epoch 103/150\n",
      "11643/11643 [==============================] - 1s 107us/step - loss: 17090.9847\n",
      "Epoch 104/150\n",
      "11643/11643 [==============================] - 1s 106us/step - loss: 17185.9639\n",
      "Epoch 105/150\n",
      "11643/11643 [==============================] - 1s 106us/step - loss: 17098.5592\n",
      "Epoch 106/150\n",
      "11643/11643 [==============================] - 1s 106us/step - loss: 17095.4262\n",
      "Epoch 107/150\n",
      "11643/11643 [==============================] - 1s 107us/step - loss: 17137.4352\n",
      "Epoch 108/150\n",
      "11643/11643 [==============================] - 1s 106us/step - loss: 17108.5269\n",
      "Epoch 109/150\n",
      "11643/11643 [==============================] - 1s 106us/step - loss: 17196.2466\n",
      "Epoch 110/150\n",
      "11643/11643 [==============================] - 1s 105us/step - loss: 17146.3095\n",
      "Epoch 111/150\n",
      "11643/11643 [==============================] - 1s 106us/step - loss: 17154.9771\n",
      "Epoch 112/150\n",
      "11643/11643 [==============================] - 1s 105us/step - loss: 17162.4808\n",
      "Epoch 113/150\n",
      "11643/11643 [==============================] - 1s 106us/step - loss: 17108.3073\n",
      "Epoch 114/150\n",
      "11643/11643 [==============================] - 1s 105us/step - loss: 17131.8864\n",
      "Epoch 115/150\n",
      "11643/11643 [==============================] - 1s 106us/step - loss: 17091.0764\n",
      "Epoch 116/150\n",
      "11643/11643 [==============================] - 1s 106us/step - loss: 17095.7259\n",
      "Epoch 117/150\n",
      "11643/11643 [==============================] - 1s 105us/step - loss: 17024.0577\n",
      "Epoch 118/150\n",
      "11643/11643 [==============================] - 1s 105us/step - loss: 17011.5557\n",
      "Epoch 119/150\n",
      "11643/11643 [==============================] - 1s 106us/step - loss: 17141.3146\n",
      "Epoch 120/150\n",
      "11643/11643 [==============================] - 1s 106us/step - loss: 17053.5892\n",
      "Epoch 121/150\n",
      "11643/11643 [==============================] - 1s 106us/step - loss: 17035.7823\n",
      "Epoch 122/150\n",
      "11643/11643 [==============================] - 1s 105us/step - loss: 17140.6629\n",
      "Epoch 123/150\n",
      "11643/11643 [==============================] - 1s 105us/step - loss: 17060.1482\n",
      "Epoch 124/150\n",
      "11643/11643 [==============================] - 1s 105us/step - loss: 17059.0550\n",
      "Epoch 125/150\n",
      "11643/11643 [==============================] - 1s 105us/step - loss: 17108.8150\n",
      "Epoch 126/150\n",
      "11643/11643 [==============================] - 1s 105us/step - loss: 17035.0929\n",
      "Epoch 127/150\n",
      "11643/11643 [==============================] - 1s 106us/step - loss: 17027.7097\n",
      "Epoch 128/150\n",
      "11643/11643 [==============================] - 1s 105us/step - loss: 17024.4825\n",
      "Epoch 129/150\n",
      "11643/11643 [==============================] - 1s 106us/step - loss: 17074.3935\n",
      "Epoch 130/150\n",
      "11643/11643 [==============================] - 1s 106us/step - loss: 17071.8101\n",
      "Epoch 131/150\n",
      "11643/11643 [==============================] - 1s 106us/step - loss: 17044.6421\n",
      "Epoch 132/150\n",
      "11643/11643 [==============================] - 1s 127us/step - loss: 17037.8742\n",
      "Epoch 133/150\n",
      "11643/11643 [==============================] - 1s 110us/step - loss: 17032.9472\n",
      "Epoch 134/150\n",
      "11643/11643 [==============================] - 1s 109us/step - loss: 17052.8946\n",
      "Epoch 135/150\n",
      "11643/11643 [==============================] - 1s 110us/step - loss: 17030.0738\n",
      "Epoch 136/150\n",
      "11643/11643 [==============================] - 1s 111us/step - loss: 17042.4764\n",
      "Epoch 137/150\n",
      "11643/11643 [==============================] - 1s 114us/step - loss: 17048.4597\n",
      "Epoch 138/150\n",
      "11643/11643 [==============================] - 1s 112us/step - loss: 17002.7771\n",
      "Epoch 139/150\n",
      "11643/11643 [==============================] - 1s 110us/step - loss: 16995.3684\n",
      "Epoch 140/150\n",
      "11643/11643 [==============================] - 1s 111us/step - loss: 16977.8023\n",
      "Epoch 141/150\n",
      "11643/11643 [==============================] - 1s 110us/step - loss: 16971.8401\n",
      "Epoch 142/150\n",
      "11643/11643 [==============================] - 1s 111us/step - loss: 17038.4352\n",
      "Epoch 143/150\n",
      "11643/11643 [==============================] - 1s 110us/step - loss: 17031.8030\n",
      "Epoch 144/150\n",
      "11643/11643 [==============================] - 1s 110us/step - loss: 17026.8418\n",
      "Epoch 145/150\n",
      "11643/11643 [==============================] - 1s 116us/step - loss: 16968.4758\n",
      "Epoch 146/150\n",
      "11643/11643 [==============================] - 1s 109us/step - loss: 16993.6600\n",
      "Epoch 147/150\n",
      "11643/11643 [==============================] - 1s 107us/step - loss: 17054.1778\n",
      "Epoch 148/150\n",
      "11643/11643 [==============================] - 1s 107us/step - loss: 16971.1024\n",
      "Epoch 149/150\n",
      "11643/11643 [==============================] - 1s 108us/step - loss: 16983.6329\n",
      "Epoch 150/150\n",
      "11643/11643 [==============================] - 1s 110us/step - loss: 16966.4156\n"
     ]
    }
   ],
   "source": [
    "grid__results = grid_search.fit(X_train, Y_train)"
   ]
  },
  {
   "cell_type": "code",
   "execution_count": 53,
   "metadata": {},
   "outputs": [
    {
     "name": "stdout",
     "output_type": "stream",
     "text": [
      "-21797.745114 (2636.204252) with: {'batch_size': 3, 'epochs': 100, 'optimizer': 'adam'}\n",
      "-20942.128140 (1527.236376) with: {'batch_size': 3, 'epochs': 100, 'optimizer': 'RMSprop'}\n",
      "-19268.904861 (2397.161382) with: {'batch_size': 3, 'epochs': 150, 'optimizer': 'adam'}\n",
      "-20620.830377 (1749.366176) with: {'batch_size': 3, 'epochs': 150, 'optimizer': 'RMSprop'}\n",
      "-19298.617692 (2460.417123) with: {'batch_size': 3, 'epochs': 200, 'optimizer': 'adam'}\n",
      "-19099.484099 (2359.822475) with: {'batch_size': 3, 'epochs': 200, 'optimizer': 'RMSprop'}\n",
      "-18557.744175 (2327.528570) with: {'batch_size': 3, 'epochs': 250, 'optimizer': 'adam'}\n",
      "-18310.623373 (1908.891364) with: {'batch_size': 3, 'epochs': 250, 'optimizer': 'RMSprop'}\n",
      "-19158.427285 (2040.867745) with: {'batch_size': 5, 'epochs': 100, 'optimizer': 'adam'}\n",
      "-21210.490131 (2779.852832) with: {'batch_size': 5, 'epochs': 100, 'optimizer': 'RMSprop'}\n",
      "-18683.790109 (2076.019715) with: {'batch_size': 5, 'epochs': 150, 'optimizer': 'adam'}\n",
      "-16976.224501 (1001.938340) with: {'batch_size': 5, 'epochs': 150, 'optimizer': 'RMSprop'}\n",
      "-19532.766184 (2542.016354) with: {'batch_size': 5, 'epochs': 200, 'optimizer': 'adam'}\n",
      "-21826.743768 (5452.171741) with: {'batch_size': 5, 'epochs': 200, 'optimizer': 'RMSprop'}\n",
      "-23223.101795 (6460.187597) with: {'batch_size': 5, 'epochs': 250, 'optimizer': 'adam'}\n",
      "-19273.458176 (3072.408561) with: {'batch_size': 5, 'epochs': 250, 'optimizer': 'RMSprop'}\n",
      "-20785.003799 (6863.767464) with: {'batch_size': 7, 'epochs': 100, 'optimizer': 'adam'}\n",
      "-20057.297026 (2770.561920) with: {'batch_size': 7, 'epochs': 100, 'optimizer': 'RMSprop'}\n",
      "-20335.469622 (2209.164456) with: {'batch_size': 7, 'epochs': 150, 'optimizer': 'adam'}\n",
      "-19387.677740 (2672.339508) with: {'batch_size': 7, 'epochs': 150, 'optimizer': 'RMSprop'}\n",
      "-21285.434166 (3210.263232) with: {'batch_size': 7, 'epochs': 200, 'optimizer': 'adam'}\n",
      "-18589.295568 (2969.319366) with: {'batch_size': 7, 'epochs': 200, 'optimizer': 'RMSprop'}\n",
      "-19395.175306 (2953.523794) with: {'batch_size': 7, 'epochs': 250, 'optimizer': 'adam'}\n",
      "-22524.336094 (2203.529716) with: {'batch_size': 7, 'epochs': 250, 'optimizer': 'RMSprop'}\n",
      "-21043.375759 (1788.960900) with: {'batch_size': 10, 'epochs': 100, 'optimizer': 'adam'}\n",
      "-19676.129344 (3053.415049) with: {'batch_size': 10, 'epochs': 100, 'optimizer': 'RMSprop'}\n",
      "-19202.311235 (3231.026904) with: {'batch_size': 10, 'epochs': 150, 'optimizer': 'adam'}\n",
      "-19999.860169 (2928.446567) with: {'batch_size': 10, 'epochs': 150, 'optimizer': 'RMSprop'}\n",
      "-18539.939250 (2578.263933) with: {'batch_size': 10, 'epochs': 200, 'optimizer': 'adam'}\n",
      "-19179.359598 (646.362197) with: {'batch_size': 10, 'epochs': 200, 'optimizer': 'RMSprop'}\n",
      "-17993.864697 (1537.470865) with: {'batch_size': 10, 'epochs': 250, 'optimizer': 'adam'}\n",
      "-19558.679686 (2465.678809) with: {'batch_size': 10, 'epochs': 250, 'optimizer': 'RMSprop'}\n"
     ]
    }
   ],
   "source": [
    "means = grid__results.cv_results_['mean_test_score']\n",
    "stds = grid__results.cv_results_['std_test_score']\n",
    "params = grid__results.cv_results_['params']\n",
    "for mean, stdev, param in zip(means, stds, params):\n",
    "    print(\"%f (%f) with: %r\" % (mean, stdev, param))"
   ]
  },
  {
   "cell_type": "code",
   "execution_count": 55,
   "metadata": {},
   "outputs": [
    {
     "data": {
      "text/plain": [
       "{'batch_size': 5, 'epochs': 150, 'optimizer': 'RMSprop'}"
      ]
     },
     "execution_count": 55,
     "metadata": {},
     "output_type": "execute_result"
    }
   ],
   "source": [
    "grid_search.best_params_"
   ]
  },
  {
   "cell_type": "code",
   "execution_count": 56,
   "metadata": {},
   "outputs": [
    {
     "data": {
      "text/plain": [
       "-16976.224500574543"
      ]
     },
     "execution_count": 56,
     "metadata": {},
     "output_type": "execute_result"
    }
   ],
   "source": [
    "grid_search.best_score_"
   ]
  },
  {
   "cell_type": "code",
   "execution_count": 57,
   "metadata": {},
   "outputs": [],
   "source": [
    "best_NN_model = grid_search.best_estimator_.model"
   ]
  },
  {
   "cell_type": "code",
   "execution_count": 58,
   "metadata": {},
   "outputs": [],
   "source": [
    "y_nn_pred = best_NN_model.predict(x_test)"
   ]
  },
  {
   "cell_type": "code",
   "execution_count": 132,
   "metadata": {},
   "outputs": [
    {
     "data": {
      "text/plain": [
       "Text(0, 0.5, 'Bike Count predicted')"
      ]
     },
     "execution_count": 132,
     "metadata": {},
     "output_type": "execute_result"
    },
    {
     "data": {
      "image/png": "[encoded data removed]",
      "text/plain": [
       "<Figure size 720x360 with 1 Axes>"
      ]
     },
     "metadata": {
      "needs_background": "light"
     },
     "output_type": "display_data"
    }
   ],
   "source": [
    "plt.figure(figsize=(10,5))\n",
    "_ = plt.title('ANN')\n",
    "plt.plot(y_test,y_nn_pred,\n",
    "         linestyle='none',\n",
    "         marker='o',\n",
    "         mfc='none',\n",
    "         mec='k',\n",
    "        alpha=0.5,\n",
    "        ms=1)\n",
    "plt.plot(np.linspace(0,max(y_test)),np.linspace(0,max(y_nn_pred)))\n",
    "plt.xlabel('Bike Count acutal')\n",
    "plt.ylabel('Bike Count predicted')\n"
   ]
  },
  {
   "cell_type": "markdown",
   "metadata": {},
   "source": [
    "The ANN is struggling to predict low numbers of bike counts, lets try reshaping the model"
   ]
  },
  {
   "cell_type": "markdown",
   "metadata": {},
   "source": [
    " # Take Two at neural net building"
   ]
  },
  {
   "cell_type": "markdown",
   "metadata": {},
   "source": [
    "Okay, so the first attempt at the ANN performed much worse than the simple decision tree. Now I want to delve deeper into the structure of the NN to see if I can improve the score."
   ]
  },
  {
   "cell_type": "code",
   "execution_count": 14,
   "metadata": {},
   "outputs": [],
   "source": [
    "from keras.layers import InputLayer"
   ]
  },
  {
   "cell_type": "code",
   "execution_count": 40,
   "metadata": {},
   "outputs": [],
   "source": [
    "def base_model2(n_hidden=1,n_neurons=30, learning_rate=3e-3,input_shape=[12],optimizer = 'RMSprop'):\n",
    "    model = Sequential()\n",
    "    model.add(InputLayer(input_shape=input_shape))\n",
    "    for i in range(n_hidden):\n",
    "        model.add(Dense(n_neurons,activation='relu'))\n",
    "    model.add(Dense(units=1))\n",
    "    model.compile(loss='mean_squared_error',optimizer=optimizer)\n",
    "    return model"
   ]
  },
  {
   "cell_type": "code",
   "execution_count": 41,
   "metadata": {},
   "outputs": [],
   "source": [
    "base_regressor_2 = KerasRegressor(build_fn=base_model2)"
   ]
  },
  {
   "cell_type": "code",
   "execution_count": 44,
   "metadata": {},
   "outputs": [],
   "source": [
    "param_take2 = {\n",
    "    'n_hidden': [5,6,7,8,9,10,11,12],\n",
    "    'n_neurons':[20,25,30],\n",
    "    'epochs':[150,200,250]\n",
    "    #'learning_rate':[3e-2,0.02,0.01,0.015,0.1]\n",
    "}"
   ]
  },
  {
   "cell_type": "code",
   "execution_count": 45,
   "metadata": {},
   "outputs": [],
   "source": [
    "X_train_sub,X_valid,y_train_sub,y_valid = train_test_split(X_train,Y_train,random_state=42)"
   ]
  },
  {
   "cell_type": "code",
   "execution_count": 46,
   "metadata": {},
   "outputs": [
    {
     "name": "stdout",
     "output_type": "stream",
     "text": [
      "Train on 8732 samples, validate on 2911 samples\n",
      "Epoch 1/250\n",
      "8732/8732 [==============================] - 0s 49us/step - loss: 34242.5093 - val_loss: 31786.7767\n",
      "Epoch 2/250\n",
      "8732/8732 [==============================] - 0s 32us/step - loss: 33822.6637 - val_loss: 31239.8909\n",
      "Epoch 3/250\n",
      "8732/8732 [==============================] - 0s 32us/step - loss: 32848.6356 - val_loss: 29155.5335\n",
      "Epoch 4/250\n",
      "8732/8732 [==============================] - 0s 32us/step - loss: 30385.2636 - val_loss: 25601.5979\n",
      "Epoch 5/250\n",
      "8732/8732 [==============================] - 0s 33us/step - loss: 28591.6219 - val_loss: 23438.3865\n",
      "Epoch 6/250\n",
      "8732/8732 [==============================] - 0s 33us/step - loss: 27893.0199 - val_loss: 26144.0829\n",
      "Epoch 7/250\n",
      "8732/8732 [==============================] - 0s 33us/step - loss: 27205.6684 - val_loss: 23107.6920\n",
      "Epoch 8/250\n",
      "8732/8732 [==============================] - 0s 33us/step - loss: 26478.0909 - val_loss: 22176.0052\n",
      "Epoch 9/250\n",
      "8732/8732 [==============================] - 0s 32us/step - loss: 26002.5175 - val_loss: 26013.1472\n",
      "Epoch 10/250\n",
      "8732/8732 [==============================] - 0s 33us/step - loss: 25475.8226 - val_loss: 24127.4618\n",
      "Epoch 11/250\n",
      "8732/8732 [==============================] - 0s 33us/step - loss: 25135.2627 - val_loss: 23519.7783\n",
      "Epoch 12/250\n",
      "8732/8732 [==============================] - 0s 33us/step - loss: 24583.1173 - val_loss: 22719.4894\n",
      "Epoch 13/250\n",
      "8732/8732 [==============================] - 0s 32us/step - loss: 24407.5623 - val_loss: 18620.0312\n",
      "Epoch 14/250\n",
      "8732/8732 [==============================] - 0s 32us/step - loss: 23903.1290 - val_loss: 19145.8554\n",
      "Epoch 15/250\n",
      "8732/8732 [==============================] - 0s 32us/step - loss: 23596.7410 - val_loss: 25768.3693\n",
      "Epoch 16/250\n",
      "8732/8732 [==============================] - 0s 32us/step - loss: 23317.3495 - val_loss: 19824.4390\n",
      "Epoch 17/250\n",
      "8732/8732 [==============================] - 0s 33us/step - loss: 23107.6611 - val_loss: 26335.0295\n",
      "Epoch 18/250\n",
      "8732/8732 [==============================] - 0s 33us/step - loss: 22509.4921 - val_loss: 19945.7667\n",
      "Epoch 19/250\n",
      "8732/8732 [==============================] - 0s 33us/step - loss: 22371.8826 - val_loss: 17029.2801\n",
      "Epoch 20/250\n",
      "8732/8732 [==============================] - 0s 32us/step - loss: 21953.3128 - val_loss: 18791.5712\n",
      "Epoch 21/250\n",
      "8732/8732 [==============================] - 0s 33us/step - loss: 21442.8178 - val_loss: 17556.7293\n",
      "Epoch 22/250\n",
      "8732/8732 [==============================] - 0s 32us/step - loss: 21178.0816 - val_loss: 18602.2349\n",
      "Epoch 23/250\n",
      "8732/8732 [==============================] - 0s 33us/step - loss: 21448.8642 - val_loss: 18914.6337\n",
      "Epoch 24/250\n",
      "8732/8732 [==============================] - 0s 33us/step - loss: 20936.6367 - val_loss: 20823.1939\n",
      "Epoch 25/250\n",
      "8732/8732 [==============================] - 0s 32us/step - loss: 20571.4713 - val_loss: 18600.9183\n",
      "Epoch 26/250\n",
      "8732/8732 [==============================] - 0s 33us/step - loss: 20203.5536 - val_loss: 17177.4450\n",
      "Epoch 27/250\n",
      "8732/8732 [==============================] - 0s 32us/step - loss: 20265.2206 - val_loss: 20222.7756\n",
      "Epoch 28/250\n",
      "8732/8732 [==============================] - 0s 32us/step - loss: 19604.4621 - val_loss: 19711.5444\n",
      "Epoch 29/250\n",
      "8732/8732 [==============================] - 0s 32us/step - loss: 19944.8844 - val_loss: 14531.4609\n",
      "Epoch 30/250\n",
      "8732/8732 [==============================] - 0s 32us/step - loss: 19453.8865 - val_loss: 21145.7271\n",
      "Epoch 31/250\n",
      "8732/8732 [==============================] - 0s 33us/step - loss: 19533.9861 - val_loss: 15148.6772\n",
      "Epoch 32/250\n",
      "8732/8732 [==============================] - 0s 32us/step - loss: 19168.1194 - val_loss: 19008.0941\n",
      "Epoch 33/250\n",
      "8732/8732 [==============================] - 0s 32us/step - loss: 19015.1643 - val_loss: 16022.5135\n",
      "Epoch 34/250\n",
      "8732/8732 [==============================] - 0s 32us/step - loss: 18639.4046 - val_loss: 21648.0913\n",
      "Epoch 35/250\n",
      "8732/8732 [==============================] - 0s 32us/step - loss: 18684.5172 - val_loss: 29975.3711\n",
      "Epoch 36/250\n",
      "8732/8732 [==============================] - 0s 32us/step - loss: 18576.8815 - val_loss: 19339.5830\n",
      "Epoch 37/250\n",
      "8732/8732 [==============================] - 0s 32us/step - loss: 18273.0693 - val_loss: 14383.6703\n",
      "Epoch 38/250\n",
      "8732/8732 [==============================] - 0s 33us/step - loss: 18150.2711 - val_loss: 23368.3207\n",
      "Epoch 39/250\n",
      "8732/8732 [==============================] - 0s 32us/step - loss: 17839.2212 - val_loss: 16582.2502\n",
      "Epoch 40/250\n",
      "8732/8732 [==============================] - 0s 33us/step - loss: 17823.4048 - val_loss: 18564.6961\n",
      "Epoch 41/250\n",
      "8732/8732 [==============================] - 0s 32us/step - loss: 18001.1213 - val_loss: 14941.6523\n",
      "Epoch 42/250\n",
      "8732/8732 [==============================] - 0s 32us/step - loss: 17257.3354 - val_loss: 14575.0495\n",
      "Epoch 43/250\n",
      "8732/8732 [==============================] - 0s 32us/step - loss: 17310.3850 - val_loss: 17637.8320\n",
      "Epoch 44/250\n",
      "8732/8732 [==============================] - 0s 32us/step - loss: 17365.4003 - val_loss: 16256.3542\n",
      "Epoch 45/250\n",
      "8732/8732 [==============================] - 0s 32us/step - loss: 16810.7845 - val_loss: 12350.7596\n",
      "Epoch 46/250\n",
      "8732/8732 [==============================] - 0s 32us/step - loss: 17231.8270 - val_loss: 13792.4114\n",
      "Epoch 47/250\n",
      "8732/8732 [==============================] - 0s 32us/step - loss: 16644.9072 - val_loss: 13040.9631\n",
      "Epoch 48/250\n",
      "8732/8732 [==============================] - 0s 32us/step - loss: 16823.6890 - val_loss: 12707.4086\n",
      "Epoch 49/250\n",
      "8732/8732 [==============================] - 0s 32us/step - loss: 16722.0080 - val_loss: 16737.5993\n",
      "Epoch 50/250\n",
      "8732/8732 [==============================] - 0s 32us/step - loss: 16484.5510 - val_loss: 16263.3911\n",
      "Epoch 51/250\n",
      "8732/8732 [==============================] - 0s 32us/step - loss: 16217.6254 - val_loss: 11399.4622\n",
      "Epoch 52/250\n",
      "8732/8732 [==============================] - 0s 32us/step - loss: 16292.6187 - val_loss: 14351.3464\n",
      "Epoch 53/250\n",
      "8732/8732 [==============================] - 0s 32us/step - loss: 16235.9558 - val_loss: 12576.5563\n",
      "Epoch 54/250\n",
      "8732/8732 [==============================] - 0s 32us/step - loss: 16180.2415 - val_loss: 15944.0507\n",
      "Epoch 55/250\n",
      "8732/8732 [==============================] - 0s 32us/step - loss: 15995.3221 - val_loss: 14417.2409\n",
      "Epoch 56/250\n",
      "8732/8732 [==============================] - 0s 32us/step - loss: 15810.0872 - val_loss: 23148.9929\n",
      "Epoch 57/250\n",
      "8732/8732 [==============================] - 0s 32us/step - loss: 16054.1695 - val_loss: 12365.6661\n",
      "Epoch 58/250\n",
      "8732/8732 [==============================] - 0s 32us/step - loss: 15947.1224 - val_loss: 13908.9835\n",
      "Epoch 59/250\n",
      "8732/8732 [==============================] - 0s 32us/step - loss: 15596.6265 - val_loss: 20668.8651\n",
      "Epoch 60/250\n",
      "8732/8732 [==============================] - 0s 32us/step - loss: 15503.6733 - val_loss: 15693.7866\n",
      "Epoch 61/250\n",
      "8732/8732 [==============================] - 0s 32us/step - loss: 15682.6753 - val_loss: 13213.8763\n",
      "Epoch 62/250\n",
      "8732/8732 [==============================] - 0s 33us/step - loss: 15442.0985 - val_loss: 10814.8796\n",
      "Epoch 63/250\n",
      "8732/8732 [==============================] - 0s 32us/step - loss: 15213.4683 - val_loss: 11520.3185\n",
      "Epoch 64/250\n",
      "8732/8732 [==============================] - 0s 33us/step - loss: 15367.6548 - val_loss: 19378.8828\n",
      "Epoch 65/250\n",
      "8732/8732 [==============================] - 0s 33us/step - loss: 15172.4566 - val_loss: 11588.4218\n",
      "Epoch 66/250\n",
      "8732/8732 [==============================] - 0s 32us/step - loss: 14930.0461 - val_loss: 11256.6542\n",
      "Epoch 67/250\n",
      "8732/8732 [==============================] - 0s 32us/step - loss: 15304.3933 - val_loss: 13673.1813\n",
      "Epoch 68/250\n",
      "8732/8732 [==============================] - 0s 32us/step - loss: 15057.3639 - val_loss: 14925.0589\n",
      "Epoch 69/250\n",
      "8732/8732 [==============================] - 0s 32us/step - loss: 15106.0286 - val_loss: 18535.3493\n",
      "Epoch 70/250\n",
      "8732/8732 [==============================] - 0s 32us/step - loss: 14930.2202 - val_loss: 12613.4670\n",
      "Epoch 71/250\n",
      "8732/8732 [==============================] - 0s 32us/step - loss: 14814.0591 - val_loss: 10917.9989\n",
      "Epoch 72/250\n",
      "8732/8732 [==============================] - 0s 32us/step - loss: 14719.1637 - val_loss: 12133.2707\n",
      "Epoch 73/250\n"
     ]
    },
    {
     "name": "stdout",
     "output_type": "stream",
     "text": [
      "8732/8732 [==============================] - 0s 32us/step - loss: 14728.6967 - val_loss: 17950.9948\n",
      "Epoch 74/250\n",
      "8732/8732 [==============================] - 0s 32us/step - loss: 14827.7893 - val_loss: 12849.0869\n",
      "Epoch 75/250\n",
      "8732/8732 [==============================] - 0s 31us/step - loss: 14658.5736 - val_loss: 15511.7553\n",
      "Epoch 76/250\n",
      "8732/8732 [==============================] - 0s 32us/step - loss: 14669.9309 - val_loss: 10462.0317\n",
      "Epoch 77/250\n",
      "8732/8732 [==============================] - 0s 32us/step - loss: 14686.1331 - val_loss: 11241.6350\n",
      "Epoch 78/250\n",
      "8732/8732 [==============================] - ETA: 0s - loss: 14264.116 - 0s 32us/step - loss: 14294.2936 - val_loss: 11999.8420\n",
      "Epoch 79/250\n",
      "8732/8732 [==============================] - 0s 31us/step - loss: 14250.6936 - val_loss: 12900.0481\n",
      "Epoch 80/250\n",
      "8732/8732 [==============================] - 0s 32us/step - loss: 14229.6430 - val_loss: 10785.5254\n",
      "Epoch 81/250\n",
      "8732/8732 [==============================] - 0s 32us/step - loss: 14097.2889 - val_loss: 12509.5309\n",
      "Epoch 82/250\n",
      "8732/8732 [==============================] - 0s 32us/step - loss: 13936.0445 - val_loss: 13171.9153\n",
      "Epoch 83/250\n",
      "8732/8732 [==============================] - 0s 32us/step - loss: 14145.0369 - val_loss: 14713.8350\n",
      "Epoch 84/250\n",
      "8732/8732 [==============================] - 0s 32us/step - loss: 13695.4493 - val_loss: 15212.5035\n",
      "Epoch 85/250\n",
      "8732/8732 [==============================] - 0s 32us/step - loss: 13852.9987 - val_loss: 17601.3029\n",
      "Epoch 86/250\n",
      "8732/8732 [==============================] - 0s 32us/step - loss: 13456.2768 - val_loss: 12883.3286\n",
      "Epoch 87/250\n",
      "8732/8732 [==============================] - 0s 32us/step - loss: 13303.2685 - val_loss: 10174.4180\n",
      "Epoch 88/250\n",
      "8732/8732 [==============================] - 0s 32us/step - loss: 13519.8683 - val_loss: 10874.2583\n",
      "Epoch 89/250\n",
      "8732/8732 [==============================] - 0s 32us/step - loss: 13255.6522 - val_loss: 12554.3513\n",
      "Epoch 90/250\n",
      "8732/8732 [==============================] - 0s 32us/step - loss: 13084.2203 - val_loss: 9661.6291\n",
      "Epoch 91/250\n",
      "8732/8732 [==============================] - 0s 32us/step - loss: 12717.1256 - val_loss: 9171.8423\n",
      "Epoch 92/250\n",
      "8732/8732 [==============================] - 0s 34us/step - loss: 12669.9026 - val_loss: 16101.6278\n",
      "Epoch 93/250\n",
      "8732/8732 [==============================] - 0s 35us/step - loss: 12568.9579 - val_loss: 11777.2690\n",
      "Epoch 94/250\n",
      "8732/8732 [==============================] - 0s 34us/step - loss: 12432.1111 - val_loss: 12171.5110\n",
      "Epoch 95/250\n",
      "8732/8732 [==============================] - 0s 33us/step - loss: 12205.5413 - val_loss: 10767.8068\n",
      "Epoch 96/250\n",
      "8732/8732 [==============================] - 0s 35us/step - loss: 12299.4963 - val_loss: 9525.7651\n",
      "Epoch 97/250\n",
      "8732/8732 [==============================] - 0s 34us/step - loss: 11987.8710 - val_loss: 7605.4180\n",
      "Epoch 98/250\n",
      "8732/8732 [==============================] - 0s 33us/step - loss: 11889.7761 - val_loss: 12852.2532\n",
      "Epoch 99/250\n",
      "8732/8732 [==============================] - 0s 32us/step - loss: 11795.3367 - val_loss: 12128.8270\n",
      "Epoch 100/250\n",
      "8732/8732 [==============================] - 0s 32us/step - loss: 11698.4052 - val_loss: 11582.4248\n",
      "Epoch 101/250\n",
      "8732/8732 [==============================] - 0s 32us/step - loss: 11448.6285 - val_loss: 8274.6862\n",
      "Epoch 102/250\n",
      "8732/8732 [==============================] - 0s 31us/step - loss: 11514.2906 - val_loss: 10500.2324\n",
      "Epoch 103/250\n",
      "8732/8732 [==============================] - 0s 32us/step - loss: 11304.5580 - val_loss: 11829.1077\n",
      "Epoch 104/250\n",
      "8732/8732 [==============================] - 0s 33us/step - loss: 11089.2711 - val_loss: 17501.9025\n",
      "Epoch 105/250\n",
      "8732/8732 [==============================] - 0s 33us/step - loss: 11215.5674 - val_loss: 7657.2864\n",
      "Epoch 106/250\n",
      "8732/8732 [==============================] - 0s 32us/step - loss: 11082.7523 - val_loss: 14265.8693\n",
      "Epoch 107/250\n",
      "8732/8732 [==============================] - 0s 33us/step - loss: 10576.3682 - val_loss: 10336.9237\n",
      "Epoch 108/250\n",
      "8732/8732 [==============================] - 0s 33us/step - loss: 11372.3508 - val_loss: 7554.7821\n",
      "Epoch 109/250\n",
      "8732/8732 [==============================] - 0s 33us/step - loss: 10684.9566 - val_loss: 6937.4454\n",
      "Epoch 110/250\n",
      "8732/8732 [==============================] - 0s 33us/step - loss: 10657.5067 - val_loss: 10486.6801\n",
      "Epoch 111/250\n",
      "8732/8732 [==============================] - 0s 33us/step - loss: 10664.8539 - val_loss: 10048.0572\n",
      "Epoch 112/250\n",
      "8732/8732 [==============================] - 0s 32us/step - loss: 10670.0995 - val_loss: 10331.0382\n",
      "Epoch 113/250\n",
      "8732/8732 [==============================] - 0s 33us/step - loss: 10576.0822 - val_loss: 14040.3617\n",
      "Epoch 114/250\n",
      "8732/8732 [==============================] - 0s 33us/step - loss: 10390.6800 - val_loss: 17314.6798\n",
      "Epoch 115/250\n",
      "8732/8732 [==============================] - 0s 32us/step - loss: 10537.9571 - val_loss: 7505.2805\n",
      "Epoch 116/250\n",
      "8732/8732 [==============================] - 0s 32us/step - loss: 10377.5397 - val_loss: 7392.7656\n",
      "Epoch 117/250\n",
      "8732/8732 [==============================] - 0s 33us/step - loss: 10060.4511 - val_loss: 14635.2043\n",
      "Epoch 118/250\n",
      "8732/8732 [==============================] - 0s 32us/step - loss: 10275.7559 - val_loss: 10350.0290\n",
      "Epoch 119/250\n",
      "8732/8732 [==============================] - 0s 32us/step - loss: 10356.1348 - val_loss: 10368.0606\n",
      "Epoch 120/250\n",
      "8732/8732 [==============================] - 0s 32us/step - loss: 9969.7533 - val_loss: 8210.8593\n",
      "Epoch 121/250\n",
      "8732/8732 [==============================] - 0s 32us/step - loss: 10159.1074 - val_loss: 7589.8956\n",
      "Epoch 122/250\n",
      "8732/8732 [==============================] - 0s 32us/step - loss: 9867.6689 - val_loss: 8733.0201\n",
      "Epoch 123/250\n",
      "8732/8732 [==============================] - 0s 32us/step - loss: 10185.3775 - val_loss: 20310.1466\n",
      "Epoch 124/250\n",
      "8732/8732 [==============================] - 0s 32us/step - loss: 10071.1977 - val_loss: 12404.8268\n",
      "Epoch 125/250\n",
      "8732/8732 [==============================] - 0s 32us/step - loss: 9940.1629 - val_loss: 8094.2850\n",
      "Epoch 126/250\n",
      "8732/8732 [==============================] - 0s 32us/step - loss: 10114.9867 - val_loss: 7110.2118\n",
      "Epoch 127/250\n",
      "8732/8732 [==============================] - 0s 35us/step - loss: 9754.5925 - val_loss: 11781.5395\n",
      "Epoch 128/250\n",
      "8732/8732 [==============================] - 0s 32us/step - loss: 9986.8110 - val_loss: 9848.5412\n",
      "Epoch 129/250\n",
      "8732/8732 [==============================] - 0s 32us/step - loss: 9698.9908 - val_loss: 12692.6382\n",
      "Epoch 130/250\n",
      "8732/8732 [==============================] - 0s 31us/step - loss: 10067.8999 - val_loss: 7870.1315\n",
      "Epoch 131/250\n",
      "8732/8732 [==============================] - 0s 31us/step - loss: 10149.0343 - val_loss: 9055.2857\n",
      "Epoch 132/250\n",
      "8732/8732 [==============================] - 0s 32us/step - loss: 9847.1765 - val_loss: 7843.6608\n",
      "Epoch 133/250\n",
      "8732/8732 [==============================] - 0s 32us/step - loss: 9596.2260 - val_loss: 6699.2500\n",
      "Epoch 134/250\n",
      "8732/8732 [==============================] - 0s 32us/step - loss: 9593.2071 - val_loss: 8134.5305\n",
      "Epoch 135/250\n",
      "8732/8732 [==============================] - 0s 32us/step - loss: 9821.8642 - val_loss: 18544.8047\n",
      "Epoch 136/250\n",
      "8732/8732 [==============================] - 0s 31us/step - loss: 9560.3904 - val_loss: 7809.4014\n",
      "Epoch 137/250\n",
      "8732/8732 [==============================] - 0s 31us/step - loss: 9574.7206 - val_loss: 7459.9112\n",
      "Epoch 138/250\n",
      "8732/8732 [==============================] - 0s 32us/step - loss: 9793.3193 - val_loss: 13091.4165\n",
      "Epoch 139/250\n",
      "8732/8732 [==============================] - 0s 31us/step - loss: 9581.9585 - val_loss: 11945.4045\n",
      "Epoch 140/250\n",
      "8732/8732 [==============================] - 0s 32us/step - loss: 9851.0874 - val_loss: 6588.9651\n",
      "Epoch 141/250\n",
      "8732/8732 [==============================] - 0s 33us/step - loss: 9586.4940 - val_loss: 11042.8758\n",
      "Epoch 142/250\n",
      "8732/8732 [==============================] - 0s 32us/step - loss: 9588.6532 - val_loss: 10654.3017\n",
      "Epoch 143/250\n",
      "8732/8732 [==============================] - 0s 33us/step - loss: 9461.2300 - val_loss: 7462.1310\n",
      "Epoch 144/250\n",
      "8732/8732 [==============================] - 0s 33us/step - loss: 9533.8649 - val_loss: 9261.1261\n",
      "Epoch 145/250\n"
     ]
    },
    {
     "name": "stdout",
     "output_type": "stream",
     "text": [
      "8732/8732 [==============================] - 0s 32us/step - loss: 9550.8557 - val_loss: 7411.2454\n",
      "Epoch 146/250\n",
      "8732/8732 [==============================] - 0s 34us/step - loss: 9574.3211 - val_loss: 6802.8355\n",
      "Epoch 147/250\n",
      "8732/8732 [==============================] - 0s 34us/step - loss: 9621.9407 - val_loss: 6539.3131\n",
      "Epoch 148/250\n",
      "8732/8732 [==============================] - 0s 34us/step - loss: 9561.7876 - val_loss: 8289.3754\n",
      "Epoch 149/250\n",
      "8732/8732 [==============================] - 0s 35us/step - loss: 9073.9901 - val_loss: 10942.1626\n",
      "Epoch 150/250\n",
      "8732/8732 [==============================] - 0s 34us/step - loss: 9395.2212 - val_loss: 11080.7407\n",
      "Epoch 151/250\n",
      "8732/8732 [==============================] - 0s 35us/step - loss: 9566.4381 - val_loss: 7682.7186\n",
      "Epoch 152/250\n",
      "8732/8732 [==============================] - 0s 33us/step - loss: 9550.8142 - val_loss: 9819.4489\n",
      "Epoch 153/250\n",
      "8732/8732 [==============================] - 0s 33us/step - loss: 9501.8426 - val_loss: 6707.2796\n",
      "Epoch 154/250\n",
      "8732/8732 [==============================] - 0s 34us/step - loss: 9268.0475 - val_loss: 6351.1363\n",
      "Epoch 155/250\n",
      "8732/8732 [==============================] - 0s 36us/step - loss: 9398.5752 - val_loss: 7200.6158\n",
      "Epoch 156/250\n",
      "8732/8732 [==============================] - 0s 33us/step - loss: 9316.4998 - val_loss: 13382.5832\n",
      "Epoch 157/250\n",
      "8732/8732 [==============================] - 0s 33us/step - loss: 9258.9062 - val_loss: 8285.6382\n",
      "Epoch 158/250\n",
      "8732/8732 [==============================] - 0s 34us/step - loss: 9401.0769 - val_loss: 8364.1549\n",
      "Epoch 159/250\n",
      "8732/8732 [==============================] - 0s 35us/step - loss: 9175.8008 - val_loss: 9863.0650\n",
      "Epoch 160/250\n",
      "8732/8732 [==============================] - 0s 35us/step - loss: 9341.9525 - val_loss: 6465.8278\n",
      "Epoch 161/250\n",
      "8732/8732 [==============================] - 0s 35us/step - loss: 9423.6099 - val_loss: 9497.5679\n",
      "Epoch 162/250\n",
      "8732/8732 [==============================] - 0s 32us/step - loss: 9307.5151 - val_loss: 7390.5025\n",
      "Epoch 163/250\n",
      "8732/8732 [==============================] - 0s 32us/step - loss: 9258.9134 - val_loss: 8114.4708\n",
      "Epoch 164/250\n",
      "8732/8732 [==============================] - 0s 32us/step - loss: 9327.7103 - val_loss: 8731.2025\n",
      "Epoch 165/250\n",
      "8732/8732 [==============================] - 0s 33us/step - loss: 9152.4153 - val_loss: 6907.6203\n",
      "Epoch 166/250\n",
      "8732/8732 [==============================] - 0s 32us/step - loss: 9126.4907 - val_loss: 6486.8700\n",
      "Epoch 167/250\n",
      "8732/8732 [==============================] - 0s 32us/step - loss: 9178.1331 - val_loss: 7228.6876\n",
      "Epoch 168/250\n",
      "8732/8732 [==============================] - 0s 34us/step - loss: 9206.7209 - val_loss: 7980.0745\n",
      "Epoch 169/250\n",
      "8732/8732 [==============================] - 0s 32us/step - loss: 9251.1663 - val_loss: 6841.6568\n",
      "Epoch 170/250\n",
      "8732/8732 [==============================] - 0s 35us/step - loss: 8919.9543 - val_loss: 6853.2990\n",
      "Epoch 171/250\n",
      "8732/8732 [==============================] - 0s 32us/step - loss: 9194.4841 - val_loss: 6435.7921\n",
      "Epoch 172/250\n",
      "8732/8732 [==============================] - 0s 32us/step - loss: 9217.0295 - val_loss: 13719.6435\n",
      "Epoch 173/250\n",
      "8732/8732 [==============================] - 0s 31us/step - loss: 9022.4537 - val_loss: 7273.6883\n",
      "Epoch 174/250\n",
      "8732/8732 [==============================] - 0s 31us/step - loss: 8955.1073 - val_loss: 6930.8772\n",
      "Epoch 175/250\n",
      "8732/8732 [==============================] - 0s 32us/step - loss: 9160.5793 - val_loss: 19098.7540\n",
      "Epoch 176/250\n",
      "8732/8732 [==============================] - 0s 32us/step - loss: 8941.3387 - val_loss: 6267.1120\n",
      "Epoch 177/250\n",
      "8732/8732 [==============================] - 0s 32us/step - loss: 9018.5083 - val_loss: 7796.7152\n",
      "Epoch 178/250\n",
      "8732/8732 [==============================] - 0s 32us/step - loss: 8966.4857 - val_loss: 9439.4509\n",
      "Epoch 179/250\n",
      "8732/8732 [==============================] - 0s 32us/step - loss: 9379.9992 - val_loss: 7923.5085\n",
      "Epoch 180/250\n",
      "8732/8732 [==============================] - 0s 32us/step - loss: 9038.0752 - val_loss: 10759.9133\n",
      "Epoch 181/250\n",
      "8732/8732 [==============================] - 0s 33us/step - loss: 8850.8272 - val_loss: 6370.4816\n",
      "Epoch 182/250\n",
      "8732/8732 [==============================] - 0s 32us/step - loss: 9070.4664 - val_loss: 8853.1563\n",
      "Epoch 183/250\n",
      "8732/8732 [==============================] - 0s 32us/step - loss: 8814.9135 - val_loss: 13440.4295\n",
      "Epoch 184/250\n",
      "8732/8732 [==============================] - 0s 32us/step - loss: 9215.9921 - val_loss: 7545.1356\n",
      "Epoch 185/250\n",
      "8732/8732 [==============================] - 0s 32us/step - loss: 9087.4791 - val_loss: 8409.5127\n",
      "Epoch 186/250\n",
      "8732/8732 [==============================] - 0s 32us/step - loss: 8862.4257 - val_loss: 7073.4748\n",
      "Epoch 187/250\n",
      "8732/8732 [==============================] - 0s 32us/step - loss: 8891.7866 - val_loss: 7448.0863\n",
      "Epoch 188/250\n",
      "8732/8732 [==============================] - 0s 32us/step - loss: 8923.4211 - val_loss: 6899.1720\n",
      "Epoch 189/250\n",
      "8732/8732 [==============================] - 0s 31us/step - loss: 8651.5206 - val_loss: 8392.3142\n",
      "Epoch 190/250\n",
      "8732/8732 [==============================] - 0s 31us/step - loss: 9084.3597 - val_loss: 9246.3530\n",
      "Epoch 191/250\n",
      "8732/8732 [==============================] - 0s 32us/step - loss: 9023.7907 - val_loss: 7131.4178\n",
      "Epoch 192/250\n",
      "8732/8732 [==============================] - 0s 32us/step - loss: 8843.8729 - val_loss: 16325.7449\n",
      "Epoch 193/250\n",
      "8732/8732 [==============================] - 0s 32us/step - loss: 8780.8906 - val_loss: 13306.7058\n",
      "Epoch 194/250\n",
      "8732/8732 [==============================] - 0s 32us/step - loss: 8726.9125 - val_loss: 6244.9928\n",
      "Epoch 195/250\n",
      "8732/8732 [==============================] - 0s 32us/step - loss: 8633.3237 - val_loss: 6392.4197\n",
      "Epoch 196/250\n",
      "8732/8732 [==============================] - 0s 32us/step - loss: 8709.2488 - val_loss: 6551.1193\n",
      "Epoch 197/250\n",
      "8732/8732 [==============================] - 0s 32us/step - loss: 8916.4699 - val_loss: 11495.4372\n",
      "Epoch 198/250\n",
      "8732/8732 [==============================] - 0s 32us/step - loss: 8984.8456 - val_loss: 6545.9284\n",
      "Epoch 199/250\n",
      "8732/8732 [==============================] - 0s 33us/step - loss: 8685.4681 - val_loss: 11579.4146\n",
      "Epoch 200/250\n",
      "8732/8732 [==============================] - 0s 32us/step - loss: 8688.3417 - val_loss: 8980.7256\n",
      "Epoch 201/250\n",
      "8732/8732 [==============================] - 0s 32us/step - loss: 8745.4051 - val_loss: 6231.3489\n",
      "Epoch 202/250\n",
      "8732/8732 [==============================] - 0s 32us/step - loss: 8861.8436 - val_loss: 6681.8474\n",
      "Epoch 203/250\n",
      "8732/8732 [==============================] - 0s 32us/step - loss: 8832.4610 - val_loss: 11166.5459\n",
      "Epoch 204/250\n",
      "8732/8732 [==============================] - 0s 32us/step - loss: 8718.9433 - val_loss: 7754.2988\n",
      "Epoch 205/250\n",
      "8732/8732 [==============================] - 0s 32us/step - loss: 8436.9459 - val_loss: 12194.2974\n",
      "Epoch 206/250\n",
      "8732/8732 [==============================] - 0s 32us/step - loss: 8711.2086 - val_loss: 7026.4763\n",
      "Epoch 207/250\n",
      "8732/8732 [==============================] - 0s 33us/step - loss: 8682.8932 - val_loss: 7497.0919\n",
      "Epoch 208/250\n",
      "8732/8732 [==============================] - 0s 32us/step - loss: 8650.2272 - val_loss: 9432.1141\n",
      "Epoch 209/250\n",
      "8732/8732 [==============================] - 0s 32us/step - loss: 8446.9779 - val_loss: 7786.8680\n",
      "Epoch 210/250\n",
      "8732/8732 [==============================] - 0s 32us/step - loss: 8635.1063 - val_loss: 6541.6666\n",
      "Epoch 211/250\n",
      "8732/8732 [==============================] - 0s 32us/step - loss: 8704.9278 - val_loss: 6621.6586\n",
      "Epoch 212/250\n",
      "8732/8732 [==============================] - 0s 32us/step - loss: 8688.3273 - val_loss: 7671.5460\n",
      "Epoch 213/250\n",
      "8732/8732 [==============================] - 0s 32us/step - loss: 8762.7432 - val_loss: 6634.7598\n",
      "Epoch 214/250\n",
      "8732/8732 [==============================] - 0s 32us/step - loss: 8388.8230 - val_loss: 7037.7787\n",
      "Epoch 215/250\n",
      "8732/8732 [==============================] - 0s 32us/step - loss: 8872.2441 - val_loss: 7109.5985\n",
      "Epoch 216/250\n",
      "8732/8732 [==============================] - 0s 32us/step - loss: 8480.5202 - val_loss: 7108.8648\n",
      "Epoch 217/250\n",
      "8732/8732 [==============================] - 0s 32us/step - loss: 8434.3540 - val_loss: 6807.5226\n",
      "Epoch 218/250\n"
     ]
    },
    {
     "name": "stdout",
     "output_type": "stream",
     "text": [
      "8732/8732 [==============================] - 0s 32us/step - loss: 8605.6177 - val_loss: 7185.9547\n",
      "Epoch 219/250\n",
      "8732/8732 [==============================] - 0s 32us/step - loss: 8614.8003 - val_loss: 6471.6926\n",
      "Epoch 220/250\n",
      "8732/8732 [==============================] - 0s 32us/step - loss: 8717.2305 - val_loss: 9373.7747\n",
      "Epoch 221/250\n",
      "8732/8732 [==============================] - 0s 32us/step - loss: 8644.1273 - val_loss: 6457.8037\n",
      "Epoch 222/250\n",
      "8732/8732 [==============================] - 0s 32us/step - loss: 8445.0519 - val_loss: 7499.7983\n",
      "Epoch 223/250\n",
      "8732/8732 [==============================] - 0s 32us/step - loss: 8468.0230 - val_loss: 11146.5033\n",
      "Epoch 224/250\n",
      "8732/8732 [==============================] - 0s 32us/step - loss: 8649.6536 - val_loss: 10487.1243\n",
      "Epoch 225/250\n",
      "8732/8732 [==============================] - 0s 31us/step - loss: 8545.3452 - val_loss: 10721.7333\n",
      "Epoch 226/250\n",
      "8732/8732 [==============================] - 0s 32us/step - loss: 8431.7410 - val_loss: 6893.5346\n",
      "Epoch 227/250\n",
      "8732/8732 [==============================] - 0s 32us/step - loss: 8590.9294 - val_loss: 6577.5757\n",
      "Epoch 228/250\n",
      "8732/8732 [==============================] - 0s 32us/step - loss: 8445.9891 - val_loss: 7434.6246\n",
      "Epoch 229/250\n",
      "8732/8732 [==============================] - 0s 31us/step - loss: 8474.9644 - val_loss: 7788.7753\n",
      "Epoch 230/250\n",
      "8732/8732 [==============================] - 0s 32us/step - loss: 8466.0668 - val_loss: 6314.3261\n",
      "Epoch 231/250\n",
      "8732/8732 [==============================] - 0s 32us/step - loss: 8318.8121 - val_loss: 11833.8900\n",
      "Epoch 232/250\n",
      "8732/8732 [==============================] - 0s 32us/step - loss: 8298.2923 - val_loss: 8097.6268\n",
      "Epoch 233/250\n",
      "8732/8732 [==============================] - 0s 32us/step - loss: 8220.6130 - val_loss: 6089.2102\n",
      "Epoch 234/250\n",
      "8732/8732 [==============================] - 0s 32us/step - loss: 8437.8906 - val_loss: 5998.6869\n",
      "Epoch 235/250\n",
      "8732/8732 [==============================] - 0s 32us/step - loss: 8373.8286 - val_loss: 6728.3354\n",
      "Epoch 236/250\n",
      "8732/8732 [==============================] - 0s 32us/step - loss: 8400.3675 - val_loss: 11183.1937\n",
      "Epoch 237/250\n",
      "8732/8732 [==============================] - 0s 32us/step - loss: 8218.9909 - val_loss: 6293.1960\n",
      "Epoch 238/250\n",
      "8732/8732 [==============================] - 0s 31us/step - loss: 8176.2502 - val_loss: 8331.8821\n",
      "Epoch 239/250\n",
      "8732/8732 [==============================] - 0s 31us/step - loss: 8333.2889 - val_loss: 10674.1931\n",
      "Epoch 240/250\n",
      "8732/8732 [==============================] - 0s 31us/step - loss: 8359.5492 - val_loss: 8568.2869\n",
      "Epoch 241/250\n",
      "8732/8732 [==============================] - 0s 32us/step - loss: 8303.8874 - val_loss: 9442.3220\n",
      "Epoch 242/250\n",
      "8732/8732 [==============================] - 0s 32us/step - loss: 8201.4431 - val_loss: 6051.1490\n",
      "Epoch 243/250\n",
      "8732/8732 [==============================] - 0s 31us/step - loss: 8432.6803 - val_loss: 5936.3455\n",
      "Epoch 244/250\n",
      "8732/8732 [==============================] - 0s 32us/step - loss: 8304.5958 - val_loss: 10352.1069\n",
      "Epoch 245/250\n",
      "8732/8732 [==============================] - 0s 31us/step - loss: 8235.3553 - val_loss: 6520.6481\n",
      "Epoch 246/250\n",
      "8732/8732 [==============================] - 0s 31us/step - loss: 8390.5820 - val_loss: 5980.4512\n",
      "Epoch 247/250\n",
      "8732/8732 [==============================] - 0s 32us/step - loss: 8233.3982 - val_loss: 15092.2154\n",
      "Epoch 248/250\n",
      "8732/8732 [==============================] - 0s 32us/step - loss: 8462.6252 - val_loss: 6645.8666\n",
      "Epoch 249/250\n",
      "8732/8732 [==============================] - 0s 32us/step - loss: 8370.1762 - val_loss: 6556.8784\n",
      "Epoch 250/250\n",
      "8732/8732 [==============================] - 0s 32us/step - loss: 8255.4483 - val_loss: 7071.7314\n"
     ]
    },
    {
     "data": {
      "text/plain": [
       "RandomizedSearchCV(cv=5,\n",
       "                   estimator=<keras.wrappers.scikit_learn.KerasRegressor object at 0x0000021F26C36D88>,\n",
       "                   n_iter=20, n_jobs=-1,\n",
       "                   param_distributions={'epochs': [150, 200, 250],\n",
       "                                        'n_hidden': [5, 6, 7, 8, 9, 10, 11, 12],\n",
       "                                        'n_neurons': [20, 25, 30]})"
      ]
     },
     "execution_count": 46,
     "metadata": {},
     "output_type": "execute_result"
    }
   ],
   "source": [
    "random_search_cv = RandomizedSearchCV(base_regressor_2,param_take2,n_iter=20,cv=5,n_jobs=-1)\n",
    "random_search_cv.fit(X_train_sub, y_train_sub,\n",
    "                    validation_data=(X_valid,y_valid))"
   ]
  },
  {
   "cell_type": "code",
   "execution_count": 47,
   "metadata": {},
   "outputs": [
    {
     "data": {
      "text/plain": [
       "{'n_neurons': 30, 'n_hidden': 8, 'epochs': 250}"
      ]
     },
     "execution_count": 47,
     "metadata": {},
     "output_type": "execute_result"
    }
   ],
   "source": [
    "random_search_cv.best_params_\n"
   ]
  },
  {
   "cell_type": "code",
   "execution_count": 48,
   "metadata": {},
   "outputs": [
    {
     "data": {
      "text/plain": [
       "-9155.612638043984"
      ]
     },
     "execution_count": 48,
     "metadata": {},
     "output_type": "execute_result"
    }
   ],
   "source": [
    "random_search_cv.best_score_"
   ]
  },
  {
   "cell_type": "code",
   "execution_count": 52,
   "metadata": {},
   "outputs": [],
   "source": [
    "best_NN_model_v2 = random_search_cv.best_estimator_.model\n",
    "y_nn_pred_v2 = best_NN_model_v2.predict(x_test)"
   ]
  },
  {
   "cell_type": "code",
   "execution_count": 53,
   "metadata": {},
   "outputs": [
    {
     "data": {
      "text/plain": [
       "Text(0, 0.5, 'Bike Count predicted')"
      ]
     },
     "execution_count": 53,
     "metadata": {},
     "output_type": "execute_result"
    },
    {
     "data": {
      "image/png": "[encoded data removed]",
      "text/plain": [
       "<Figure size 720x360 with 1 Axes>"
      ]
     },
     "metadata": {
      "needs_background": "light"
     },
     "output_type": "display_data"
    }
   ],
   "source": [
    "plt.figure(figsize=(10,5))\n",
    "_ = plt.title('ANN_V2')\n",
    "plt.plot(y_test,y_nn_pred_v2,\n",
    "         linestyle='none',\n",
    "         marker='o',\n",
    "         mfc='none',\n",
    "         mec='k',\n",
    "        alpha=0.5,\n",
    "        ms=1)\n",
    "plt.plot(np.linspace(0,max(y_test)),np.linspace(0,max(y_nn_pred_v2)))\n",
    "plt.xlabel('Bike Count acutal')\n",
    "plt.ylabel('Bike Count predicted')\n"
   ]
  },
  {
   "cell_type": "markdown",
   "metadata": {},
   "source": [
    "The second ANN does a much better job than the first NN, however, its still not as good as the "
   ]
  }
 ],
 "metadata": {
  "kernelspec": {
   "display_name": "Python 3",
   "language": "python",
   "name": "python3"
  },
  "language_info": {
   "codemirror_mode": {
    "name": "ipython",
    "version": 3
   },
   "file_extension": ".py",
   "mimetype": "text/x-python",
   "name": "python",
   "nbconvert_exporter": "python",
   "pygments_lexer": "ipython3",
   "version": "3.7.7"
  }
 },
 "nbformat": 4,
 "nbformat_minor": 4
}
