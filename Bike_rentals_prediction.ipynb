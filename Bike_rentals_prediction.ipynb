{
 "cells": [
  {
   "cell_type": "markdown",
   "metadata": {},
   "source": [
    "This is the bike sharing dataset from Kaggle: https://www.kaggle.com/lakshmi25npathi/bike-sharing-dataset/activity\n"
   ]
  },
  {
   "cell_type": "code",
   "execution_count": 1,
   "metadata": {},
   "outputs": [],
   "source": [
    "import pandas as pd\n",
    "import numpy as np\n",
    "import matplotlib.pyplot as plt\n",
    "import seaborn as sns\n",
    "%matplotlib inline"
   ]
  },
  {
   "cell_type": "code",
   "execution_count": 2,
   "metadata": {},
   "outputs": [
    {
     "name": "stdout",
     "output_type": "stream",
     "text": [
      "<class 'pandas.core.frame.DataFrame'>\n",
      "RangeIndex: 17379 entries, 0 to 17378\n",
      "Data columns (total 17 columns):\n",
      " #   Column      Non-Null Count  Dtype  \n",
      "---  ------      --------------  -----  \n",
      " 0   instant     17379 non-null  int64  \n",
      " 1   dteday      17379 non-null  object \n",
      " 2   season      17379 non-null  int64  \n",
      " 3   yr          17379 non-null  int64  \n",
      " 4   mnth        17379 non-null  int64  \n",
      " 5   hr          17379 non-null  int64  \n",
      " 6   holiday     17379 non-null  int64  \n",
      " 7   weekday     17379 non-null  int64  \n",
      " 8   workingday  17379 non-null  int64  \n",
      " 9   weathersit  17379 non-null  int64  \n",
      " 10  temp        17379 non-null  float64\n",
      " 11  atemp       17379 non-null  float64\n",
      " 12  hum         17379 non-null  float64\n",
      " 13  windspeed   17379 non-null  float64\n",
      " 14  casual      17379 non-null  int64  \n",
      " 15  registered  17379 non-null  int64  \n",
      " 16  cnt         17379 non-null  int64  \n",
      "dtypes: float64(4), int64(12), object(1)\n",
      "memory usage: 2.3+ MB\n"
     ]
    }
   ],
   "source": [
    "# Import dataset\n",
    "df = pd.read_csv('hour.csv')\n",
    "df.info()"
   ]
  },
  {
   "cell_type": "code",
   "execution_count": 3,
   "metadata": {},
   "outputs": [
    {
     "data": {
      "text/html": [
       "<div>\n",
       "<style scoped>\n",
       "    .dataframe tbody tr th:only-of-type {\n",
       "        vertical-align: middle;\n",
       "    }\n",
       "\n",
       "    .dataframe tbody tr th {\n",
       "        vertical-align: top;\n",
       "    }\n",
       "\n",
       "    .dataframe thead th {\n",
       "        text-align: right;\n",
       "    }\n",
       "</style>\n",
       "<table border=\"1\" class=\"dataframe\">\n",
       "  <thead>\n",
       "    <tr style=\"text-align: right;\">\n",
       "      <th></th>\n",
       "      <th>instant</th>\n",
       "      <th>dteday</th>\n",
       "      <th>season</th>\n",
       "      <th>yr</th>\n",
       "      <th>mnth</th>\n",
       "      <th>hr</th>\n",
       "      <th>holiday</th>\n",
       "      <th>weekday</th>\n",
       "      <th>workingday</th>\n",
       "      <th>weathersit</th>\n",
       "      <th>temp</th>\n",
       "      <th>atemp</th>\n",
       "      <th>hum</th>\n",
       "      <th>windspeed</th>\n",
       "      <th>casual</th>\n",
       "      <th>registered</th>\n",
       "      <th>cnt</th>\n",
       "    </tr>\n",
       "  </thead>\n",
       "  <tbody>\n",
       "    <tr>\n",
       "      <th>0</th>\n",
       "      <td>1</td>\n",
       "      <td>2011-01-01</td>\n",
       "      <td>1</td>\n",
       "      <td>0</td>\n",
       "      <td>1</td>\n",
       "      <td>0</td>\n",
       "      <td>0</td>\n",
       "      <td>6</td>\n",
       "      <td>0</td>\n",
       "      <td>1</td>\n",
       "      <td>0.24</td>\n",
       "      <td>0.2879</td>\n",
       "      <td>0.81</td>\n",
       "      <td>0.0</td>\n",
       "      <td>3</td>\n",
       "      <td>13</td>\n",
       "      <td>16</td>\n",
       "    </tr>\n",
       "    <tr>\n",
       "      <th>1</th>\n",
       "      <td>2</td>\n",
       "      <td>2011-01-01</td>\n",
       "      <td>1</td>\n",
       "      <td>0</td>\n",
       "      <td>1</td>\n",
       "      <td>1</td>\n",
       "      <td>0</td>\n",
       "      <td>6</td>\n",
       "      <td>0</td>\n",
       "      <td>1</td>\n",
       "      <td>0.22</td>\n",
       "      <td>0.2727</td>\n",
       "      <td>0.80</td>\n",
       "      <td>0.0</td>\n",
       "      <td>8</td>\n",
       "      <td>32</td>\n",
       "      <td>40</td>\n",
       "    </tr>\n",
       "    <tr>\n",
       "      <th>2</th>\n",
       "      <td>3</td>\n",
       "      <td>2011-01-01</td>\n",
       "      <td>1</td>\n",
       "      <td>0</td>\n",
       "      <td>1</td>\n",
       "      <td>2</td>\n",
       "      <td>0</td>\n",
       "      <td>6</td>\n",
       "      <td>0</td>\n",
       "      <td>1</td>\n",
       "      <td>0.22</td>\n",
       "      <td>0.2727</td>\n",
       "      <td>0.80</td>\n",
       "      <td>0.0</td>\n",
       "      <td>5</td>\n",
       "      <td>27</td>\n",
       "      <td>32</td>\n",
       "    </tr>\n",
       "    <tr>\n",
       "      <th>3</th>\n",
       "      <td>4</td>\n",
       "      <td>2011-01-01</td>\n",
       "      <td>1</td>\n",
       "      <td>0</td>\n",
       "      <td>1</td>\n",
       "      <td>3</td>\n",
       "      <td>0</td>\n",
       "      <td>6</td>\n",
       "      <td>0</td>\n",
       "      <td>1</td>\n",
       "      <td>0.24</td>\n",
       "      <td>0.2879</td>\n",
       "      <td>0.75</td>\n",
       "      <td>0.0</td>\n",
       "      <td>3</td>\n",
       "      <td>10</td>\n",
       "      <td>13</td>\n",
       "    </tr>\n",
       "    <tr>\n",
       "      <th>4</th>\n",
       "      <td>5</td>\n",
       "      <td>2011-01-01</td>\n",
       "      <td>1</td>\n",
       "      <td>0</td>\n",
       "      <td>1</td>\n",
       "      <td>4</td>\n",
       "      <td>0</td>\n",
       "      <td>6</td>\n",
       "      <td>0</td>\n",
       "      <td>1</td>\n",
       "      <td>0.24</td>\n",
       "      <td>0.2879</td>\n",
       "      <td>0.75</td>\n",
       "      <td>0.0</td>\n",
       "      <td>0</td>\n",
       "      <td>1</td>\n",
       "      <td>1</td>\n",
       "    </tr>\n",
       "  </tbody>\n",
       "</table>\n",
       "</div>"
      ],
      "text/plain": [
       "   instant      dteday  season  yr  mnth  hr  holiday  weekday  workingday  \\\n",
       "0        1  2011-01-01       1   0     1   0        0        6           0   \n",
       "1        2  2011-01-01       1   0     1   1        0        6           0   \n",
       "2        3  2011-01-01       1   0     1   2        0        6           0   \n",
       "3        4  2011-01-01       1   0     1   3        0        6           0   \n",
       "4        5  2011-01-01       1   0     1   4        0        6           0   \n",
       "\n",
       "   weathersit  temp   atemp   hum  windspeed  casual  registered  cnt  \n",
       "0           1  0.24  0.2879  0.81        0.0       3          13   16  \n",
       "1           1  0.22  0.2727  0.80        0.0       8          32   40  \n",
       "2           1  0.22  0.2727  0.80        0.0       5          27   32  \n",
       "3           1  0.24  0.2879  0.75        0.0       3          10   13  \n",
       "4           1  0.24  0.2879  0.75        0.0       0           1    1  "
      ]
     },
     "execution_count": 3,
     "metadata": {},
     "output_type": "execute_result"
    }
   ],
   "source": [
    "df.head()"
   ]
  },
  {
   "cell_type": "code",
   "execution_count": 4,
   "metadata": {},
   "outputs": [
    {
     "data": {
      "text/html": [
       "<div>\n",
       "<style scoped>\n",
       "    .dataframe tbody tr th:only-of-type {\n",
       "        vertical-align: middle;\n",
       "    }\n",
       "\n",
       "    .dataframe tbody tr th {\n",
       "        vertical-align: top;\n",
       "    }\n",
       "\n",
       "    .dataframe thead th {\n",
       "        text-align: right;\n",
       "    }\n",
       "</style>\n",
       "<table border=\"1\" class=\"dataframe\">\n",
       "  <thead>\n",
       "    <tr style=\"text-align: right;\">\n",
       "      <th></th>\n",
       "      <th>instant</th>\n",
       "      <th>season</th>\n",
       "      <th>yr</th>\n",
       "      <th>mnth</th>\n",
       "      <th>hr</th>\n",
       "      <th>holiday</th>\n",
       "      <th>weekday</th>\n",
       "      <th>workingday</th>\n",
       "      <th>weathersit</th>\n",
       "      <th>temp</th>\n",
       "      <th>atemp</th>\n",
       "      <th>hum</th>\n",
       "      <th>windspeed</th>\n",
       "      <th>casual</th>\n",
       "      <th>registered</th>\n",
       "      <th>cnt</th>\n",
       "    </tr>\n",
       "  </thead>\n",
       "  <tbody>\n",
       "    <tr>\n",
       "      <th>count</th>\n",
       "      <td>17379.0000</td>\n",
       "      <td>17379.000000</td>\n",
       "      <td>17379.000000</td>\n",
       "      <td>17379.000000</td>\n",
       "      <td>17379.000000</td>\n",
       "      <td>17379.000000</td>\n",
       "      <td>17379.000000</td>\n",
       "      <td>17379.000000</td>\n",
       "      <td>17379.000000</td>\n",
       "      <td>17379.000000</td>\n",
       "      <td>17379.000000</td>\n",
       "      <td>17379.000000</td>\n",
       "      <td>17379.000000</td>\n",
       "      <td>17379.000000</td>\n",
       "      <td>17379.000000</td>\n",
       "      <td>17379.000000</td>\n",
       "    </tr>\n",
       "    <tr>\n",
       "      <th>mean</th>\n",
       "      <td>8690.0000</td>\n",
       "      <td>2.501640</td>\n",
       "      <td>0.502561</td>\n",
       "      <td>6.537775</td>\n",
       "      <td>11.546752</td>\n",
       "      <td>0.028770</td>\n",
       "      <td>3.003683</td>\n",
       "      <td>0.682721</td>\n",
       "      <td>1.425283</td>\n",
       "      <td>0.496987</td>\n",
       "      <td>0.475775</td>\n",
       "      <td>0.627229</td>\n",
       "      <td>0.190098</td>\n",
       "      <td>35.676218</td>\n",
       "      <td>153.786869</td>\n",
       "      <td>189.463088</td>\n",
       "    </tr>\n",
       "    <tr>\n",
       "      <th>std</th>\n",
       "      <td>5017.0295</td>\n",
       "      <td>1.106918</td>\n",
       "      <td>0.500008</td>\n",
       "      <td>3.438776</td>\n",
       "      <td>6.914405</td>\n",
       "      <td>0.167165</td>\n",
       "      <td>2.005771</td>\n",
       "      <td>0.465431</td>\n",
       "      <td>0.639357</td>\n",
       "      <td>0.192556</td>\n",
       "      <td>0.171850</td>\n",
       "      <td>0.192930</td>\n",
       "      <td>0.122340</td>\n",
       "      <td>49.305030</td>\n",
       "      <td>151.357286</td>\n",
       "      <td>181.387599</td>\n",
       "    </tr>\n",
       "    <tr>\n",
       "      <th>min</th>\n",
       "      <td>1.0000</td>\n",
       "      <td>1.000000</td>\n",
       "      <td>0.000000</td>\n",
       "      <td>1.000000</td>\n",
       "      <td>0.000000</td>\n",
       "      <td>0.000000</td>\n",
       "      <td>0.000000</td>\n",
       "      <td>0.000000</td>\n",
       "      <td>1.000000</td>\n",
       "      <td>0.020000</td>\n",
       "      <td>0.000000</td>\n",
       "      <td>0.000000</td>\n",
       "      <td>0.000000</td>\n",
       "      <td>0.000000</td>\n",
       "      <td>0.000000</td>\n",
       "      <td>1.000000</td>\n",
       "    </tr>\n",
       "    <tr>\n",
       "      <th>25%</th>\n",
       "      <td>4345.5000</td>\n",
       "      <td>2.000000</td>\n",
       "      <td>0.000000</td>\n",
       "      <td>4.000000</td>\n",
       "      <td>6.000000</td>\n",
       "      <td>0.000000</td>\n",
       "      <td>1.000000</td>\n",
       "      <td>0.000000</td>\n",
       "      <td>1.000000</td>\n",
       "      <td>0.340000</td>\n",
       "      <td>0.333300</td>\n",
       "      <td>0.480000</td>\n",
       "      <td>0.104500</td>\n",
       "      <td>4.000000</td>\n",
       "      <td>34.000000</td>\n",
       "      <td>40.000000</td>\n",
       "    </tr>\n",
       "    <tr>\n",
       "      <th>50%</th>\n",
       "      <td>8690.0000</td>\n",
       "      <td>3.000000</td>\n",
       "      <td>1.000000</td>\n",
       "      <td>7.000000</td>\n",
       "      <td>12.000000</td>\n",
       "      <td>0.000000</td>\n",
       "      <td>3.000000</td>\n",
       "      <td>1.000000</td>\n",
       "      <td>1.000000</td>\n",
       "      <td>0.500000</td>\n",
       "      <td>0.484800</td>\n",
       "      <td>0.630000</td>\n",
       "      <td>0.194000</td>\n",
       "      <td>17.000000</td>\n",
       "      <td>115.000000</td>\n",
       "      <td>142.000000</td>\n",
       "    </tr>\n",
       "    <tr>\n",
       "      <th>75%</th>\n",
       "      <td>13034.5000</td>\n",
       "      <td>3.000000</td>\n",
       "      <td>1.000000</td>\n",
       "      <td>10.000000</td>\n",
       "      <td>18.000000</td>\n",
       "      <td>0.000000</td>\n",
       "      <td>5.000000</td>\n",
       "      <td>1.000000</td>\n",
       "      <td>2.000000</td>\n",
       "      <td>0.660000</td>\n",
       "      <td>0.621200</td>\n",
       "      <td>0.780000</td>\n",
       "      <td>0.253700</td>\n",
       "      <td>48.000000</td>\n",
       "      <td>220.000000</td>\n",
       "      <td>281.000000</td>\n",
       "    </tr>\n",
       "    <tr>\n",
       "      <th>max</th>\n",
       "      <td>17379.0000</td>\n",
       "      <td>4.000000</td>\n",
       "      <td>1.000000</td>\n",
       "      <td>12.000000</td>\n",
       "      <td>23.000000</td>\n",
       "      <td>1.000000</td>\n",
       "      <td>6.000000</td>\n",
       "      <td>1.000000</td>\n",
       "      <td>4.000000</td>\n",
       "      <td>1.000000</td>\n",
       "      <td>1.000000</td>\n",
       "      <td>1.000000</td>\n",
       "      <td>0.850700</td>\n",
       "      <td>367.000000</td>\n",
       "      <td>886.000000</td>\n",
       "      <td>977.000000</td>\n",
       "    </tr>\n",
       "  </tbody>\n",
       "</table>\n",
       "</div>"
      ],
      "text/plain": [
       "          instant        season            yr          mnth            hr  \\\n",
       "count  17379.0000  17379.000000  17379.000000  17379.000000  17379.000000   \n",
       "mean    8690.0000      2.501640      0.502561      6.537775     11.546752   \n",
       "std     5017.0295      1.106918      0.500008      3.438776      6.914405   \n",
       "min        1.0000      1.000000      0.000000      1.000000      0.000000   \n",
       "25%     4345.5000      2.000000      0.000000      4.000000      6.000000   \n",
       "50%     8690.0000      3.000000      1.000000      7.000000     12.000000   \n",
       "75%    13034.5000      3.000000      1.000000     10.000000     18.000000   \n",
       "max    17379.0000      4.000000      1.000000     12.000000     23.000000   \n",
       "\n",
       "            holiday       weekday    workingday    weathersit          temp  \\\n",
       "count  17379.000000  17379.000000  17379.000000  17379.000000  17379.000000   \n",
       "mean       0.028770      3.003683      0.682721      1.425283      0.496987   \n",
       "std        0.167165      2.005771      0.465431      0.639357      0.192556   \n",
       "min        0.000000      0.000000      0.000000      1.000000      0.020000   \n",
       "25%        0.000000      1.000000      0.000000      1.000000      0.340000   \n",
       "50%        0.000000      3.000000      1.000000      1.000000      0.500000   \n",
       "75%        0.000000      5.000000      1.000000      2.000000      0.660000   \n",
       "max        1.000000      6.000000      1.000000      4.000000      1.000000   \n",
       "\n",
       "              atemp           hum     windspeed        casual    registered  \\\n",
       "count  17379.000000  17379.000000  17379.000000  17379.000000  17379.000000   \n",
       "mean       0.475775      0.627229      0.190098     35.676218    153.786869   \n",
       "std        0.171850      0.192930      0.122340     49.305030    151.357286   \n",
       "min        0.000000      0.000000      0.000000      0.000000      0.000000   \n",
       "25%        0.333300      0.480000      0.104500      4.000000     34.000000   \n",
       "50%        0.484800      0.630000      0.194000     17.000000    115.000000   \n",
       "75%        0.621200      0.780000      0.253700     48.000000    220.000000   \n",
       "max        1.000000      1.000000      0.850700    367.000000    886.000000   \n",
       "\n",
       "                cnt  \n",
       "count  17379.000000  \n",
       "mean     189.463088  \n",
       "std      181.387599  \n",
       "min        1.000000  \n",
       "25%       40.000000  \n",
       "50%      142.000000  \n",
       "75%      281.000000  \n",
       "max      977.000000  "
      ]
     },
     "execution_count": 4,
     "metadata": {},
     "output_type": "execute_result"
    }
   ],
   "source": [
    "df.describe()"
   ]
  },
  {
   "cell_type": "code",
   "execution_count": 5,
   "metadata": {},
   "outputs": [],
   "source": [
    "# Dropping the instant column as its just another index\n",
    "df.drop('instant',axis=1,inplace=True)\n",
    "# Converting the dteday to a datetime variable\n",
    "df['dteday'] = pd.to_datetime(df['dteday'])"
   ]
  },
  {
   "cell_type": "code",
   "execution_count": 6,
   "metadata": {},
   "outputs": [],
   "source": [
    "df['yr'] = df['dteday'].apply(lambda x : x.year)"
   ]
  },
  {
   "cell_type": "markdown",
   "metadata": {},
   "source": [
    "I first want to check that there are an approximately equal number of data points for each season, year, month and weekday"
   ]
  },
  {
   "cell_type": "code",
   "execution_count": 7,
   "metadata": {},
   "outputs": [
    {
     "data": {
      "text/plain": [
       "<matplotlib.axes._subplots.AxesSubplot at 0x21f1ea75508>"
      ]
     },
     "execution_count": 7,
     "metadata": {},
     "output_type": "execute_result"
    },
    {
     "data": {
      "image/png": "[encoded data removed]",
      "text/plain": [
       "<Figure size 1080x720 with 4 Axes>"
      ]
     },
     "metadata": {
      "needs_background": "light"
     },
     "output_type": "display_data"
    }
   ],
   "source": [
    "fig,axes = plt.subplots(2,2,figsize=(15,10))\n",
    "axes = axes.ravel()\n",
    "sns.countplot(x='mnth',\n",
    "              data=df,ax=axes[0],\n",
    "              palette='Pastel1',\n",
    "             edgecolor='k')\n",
    "sns.countplot(x='weekday',\n",
    "              data=df,\n",
    "              ax=axes[1],\n",
    "             palette = 'Pastel1',\n",
    "             edgecolor='k')\n",
    "sns.countplot(x='yr',\n",
    "              data=df,\n",
    "              ax=axes[2],\n",
    "             palette = 'Pastel1',\n",
    "             edgecolor='k')\n",
    "sns.countplot(x='season',\n",
    "              data=df,\n",
    "              ax=axes[3],\n",
    "             palette = 'Pastel1',\n",
    "             edgecolor='k')"
   ]
  },
  {
   "cell_type": "code",
   "execution_count": 8,
   "metadata": {},
   "outputs": [
    {
     "data": {
      "text/plain": [
       "Text(0, 0.5, 'Number of instances')"
      ]
     },
     "execution_count": 8,
     "metadata": {},
     "output_type": "execute_result"
    },
    {
     "data": {
      "image/png": "[encoded data removed]",
      "text/plain": [
       "<Figure size 1080x360 with 1 Axes>"
      ]
     },
     "metadata": {
      "needs_background": "light"
     },
     "output_type": "display_data"
    }
   ],
   "source": [
    "plt.figure(figsize=(15,5))\n",
    "a,b,c = plt.hist(df.cnt,bins=50,edgecolor='k')\n",
    "plt.xlabel('Bike Count')\n",
    "plt.ylabel('Number of instances')"
   ]
  },
  {
   "cell_type": "markdown",
   "metadata": {},
   "source": [
    "This dataset is particulary clean. Although this isn't representative of a real world dataset, I wanted to focus on ML with this data set rather than data cleaning"
   ]
  },
  {
   "cell_type": "code",
   "execution_count": 7,
   "metadata": {},
   "outputs": [],
   "source": [
    "from sklearn.model_selection import train_test_split\n",
    "from sklearn.preprocessing import StandardScaler\n",
    "from sklearn.linear_model import LinearRegression"
   ]
  },
  {
   "cell_type": "code",
   "execution_count": 8,
   "metadata": {},
   "outputs": [],
   "source": [
    "x = df.iloc[:,1:-3].values\n",
    "y = df.iloc[:,-1].values\n",
    "X_train, x_test, Y_train, y_test = train_test_split(x, y,random_state=42,test_size=0.33)"
   ]
  },
  {
   "cell_type": "code",
   "execution_count": 9,
   "metadata": {},
   "outputs": [
    {
     "data": {
      "text/plain": [
       "<matplotlib.legend.Legend at 0x1bb6adf4c88>"
      ]
     },
     "execution_count": 9,
     "metadata": {},
     "output_type": "execute_result"
    },
    {
     "data": {
      "image/png": "[encoded data removed]",
      "text/plain": [
       "<Figure size 1080x360 with 1 Axes>"
      ]
     },
     "metadata": {
      "needs_background": "light"
     },
     "output_type": "display_data"
    }
   ],
   "source": [
    "plt.figure(figsize=(15,5))\n",
    "_ = plt.hist(Y_train,bins=50,label='Y_train',histtype='step',density=True)\n",
    "_ = plt.hist(y_test,bins=50,label='Y_test',histtype='step',density=True)\n",
    "plt.xlabel('Bike Count')\n",
    "plt.ylabel('Number of instances')\n",
    "plt.legend()"
   ]
  },
  {
   "cell_type": "code",
   "execution_count": 10,
   "metadata": {},
   "outputs": [],
   "source": [
    "scaler = StandardScaler()"
   ]
  },
  {
   "cell_type": "code",
   "execution_count": 11,
   "metadata": {},
   "outputs": [],
   "source": [
    "X_train = scaler.fit_transform(X_train)\n",
    "x_test = scaler.transform(x_test)"
   ]
  },
  {
   "cell_type": "code",
   "execution_count": 42,
   "metadata": {},
   "outputs": [],
   "source": [
    "lr = LinearRegression()\n",
    "lrm = lr.fit(X_train,Y_train)"
   ]
  },
  {
   "cell_type": "code",
   "execution_count": 44,
   "metadata": {},
   "outputs": [
    {
     "name": "stdout",
     "output_type": "stream",
     "text": [
      "0.39139163128590015\n"
     ]
    },
    {
     "data": {
      "image/png": "[encoded data removed]",
      "text/plain": [
       "<Figure size 720x360 with 1 Axes>"
      ]
     },
     "metadata": {
      "needs_background": "light"
     },
     "output_type": "display_data"
    }
   ],
   "source": [
    "plt.figure(figsize=(10,5))\n",
    "_ = plt.title('Linear Regression Model')\n",
    "plt.plot(y_test,lrm.predict(x_test),\n",
    "         linestyle='none',\n",
    "         marker='o',\n",
    "         mfc='none',\n",
    "         mec='k',\n",
    "        alpha=0.5,\n",
    "        ms=1)\n",
    "plt.plot(np.linspace(0,max(y_test)),np.linspace(0,max(lrm.predict(x_test))))\n",
    "plt.xlabel('Bike Count acutal')\n",
    "plt.ylabel('Bike Count predicted')\n",
    "print(lrm.score(x_test,y_test))"
   ]
  },
  {
   "cell_type": "code",
   "execution_count": 45,
   "metadata": {},
   "outputs": [],
   "source": [
    "LR_misfit = sum((y_test - lrm.predict(x_test).flatten())**2)"
   ]
  },
  {
   "cell_type": "markdown",
   "metadata": {},
   "source": [
    "# Lets try a decision tree"
   ]
  },
  {
   "cell_type": "code",
   "execution_count": 21,
   "metadata": {},
   "outputs": [],
   "source": [
    "from sklearn.tree import DecisionTreeRegressor\n",
    "from sklearn.model_selection import GridSearchCV\n",
    "from sklearn.model_selection import RandomizedSearchCV"
   ]
  },
  {
   "cell_type": "code",
   "execution_count": 17,
   "metadata": {},
   "outputs": [],
   "source": [
    "param_dist = {'max_depth': np.arange(1,30),\n",
    "              'min_samples_leaf':np.arange(1,60,3),\n",
    "             'max_features':['auto', 'sqrt','log2']}\n",
    "clf = GridSearchCV(DecisionTreeRegressor(), param_dist,cv=10)"
   ]
  },
  {
   "cell_type": "code",
   "execution_count": 18,
   "metadata": {},
   "outputs": [
    {
     "data": {
      "text/plain": [
       "{'max_depth': 28, 'max_features': 'auto', 'min_samples_leaf': 7}"
      ]
     },
     "execution_count": 18,
     "metadata": {},
     "output_type": "execute_result"
    }
   ],
   "source": [
    "clf.fit(X_train,Y_train)\n",
    "clf.best_params_"
   ]
  },
  {
   "cell_type": "code",
   "execution_count": 32,
   "metadata": {},
   "outputs": [
    {
     "data": {
      "text/plain": [
       "DecisionTreeRegressor(max_depth=20, max_features='auto', min_samples_leaf=6)"
      ]
     },
     "execution_count": 32,
     "metadata": {},
     "output_type": "execute_result"
    }
   ],
   "source": [
    "best_tree = DecisionTreeRegressor(max_features= 'auto', max_depth= 20,min_samples_leaf=6)\n",
    "best_tree.fit(X_train,Y_train)"
   ]
  },
  {
   "cell_type": "code",
   "execution_count": 33,
   "metadata": {},
   "outputs": [
    {
     "name": "stdout",
     "output_type": "stream",
     "text": [
      "0.9140270247679625\n"
     ]
    },
    {
     "data": {
      "image/png": "[encoded data removed]",
      "text/plain": [
       "<Figure size 720x360 with 1 Axes>"
      ]
     },
     "metadata": {
      "needs_background": "light"
     },
     "output_type": "display_data"
    }
   ],
   "source": [
    "plt.figure(figsize=(10,5))\n",
    "_ = plt.title('Decision Tree')\n",
    "plt.plot(y_test,best_tree.predict(x_test),\n",
    "         linestyle='none',\n",
    "         marker='o',\n",
    "         mfc='none',\n",
    "         mec='k',\n",
    "        alpha=0.5,\n",
    "        ms=1)\n",
    "plt.plot(np.linspace(0,max(y_test)),np.linspace(0,max(best_tree.predict(x_test))))\n",
    "plt.xlabel('Bike Count acutal')\n",
    "plt.ylabel('Bike Count predicted')\n",
    "print(best_tree.score(x_test, y_test))"
   ]
  },
  {
   "cell_type": "code",
   "execution_count": 34,
   "metadata": {},
   "outputs": [
    {
     "data": {
      "text/plain": [
       "array([355.14285714,  83.        ,  11.81818182, ..., 153.66666667,\n",
       "       514.28571429, 125.875     ])"
      ]
     },
     "execution_count": 34,
     "metadata": {},
     "output_type": "execute_result"
    }
   ],
   "source": [
    "best_tree.predict(x_test)"
   ]
  },
  {
   "cell_type": "code",
   "execution_count": 35,
   "metadata": {},
   "outputs": [],
   "source": [
    "tree_misfit = sum((y_test - best_tree.predict(x_test).flatten())**2)"
   ]
  },
  {
   "cell_type": "markdown",
   "metadata": {},
   "source": [
    "# Moving on to trying a neural network"
   ]
  },
  {
   "cell_type": "markdown",
   "metadata": {},
   "source": [
    "Althought the decision tree did rather well I want to practice working with and tuning a neural network, so this next section focuses on that. "
   ]
  },
  {
   "cell_type": "code",
   "execution_count": 12,
   "metadata": {},
   "outputs": [
    {
     "name": "stderr",
     "output_type": "stream",
     "text": [
      "Using TensorFlow backend.\n"
     ]
    }
   ],
   "source": [
    "# importing the Keras libs\n",
    "\n",
    "from keras.models import Sequential\n",
    "from keras.layers import Dense\n",
    "from keras.layers import Dropout\n",
    "from keras.wrappers.scikit_learn import KerasRegressor\n",
    "from sklearn.model_selection import cross_val_score\n",
    "from sklearn.model_selection import KFold\n",
    "from keras.optimizers import SGD"
   ]
  },
  {
   "cell_type": "code",
   "execution_count": 13,
   "metadata": {},
   "outputs": [],
   "source": [
    "# Defining the base model\n",
    "def base_model(optimizer='adam'):\n",
    "    model = Sequential()\n",
    "    model.add(Dense(units=12,input_dim=12,kernel_initializer = 'normal',activation = 'relu'))\n",
    "    model.add(Dense(units=7))\n",
    "    model.add(Dense(units=1))\n",
    "    model.compile(loss='mean_squared_error',optimizer=optimizer)\n",
    "    return model"
   ]
  },
  {
   "cell_type": "code",
   "execution_count": 14,
   "metadata": {},
   "outputs": [],
   "source": [
    "base_regressor = KerasRegressor(build_fn=base_model, epochs=100, batch_size=20,verbose=1)"
   ]
  },
  {
   "cell_type": "code",
   "execution_count": 53,
   "metadata": {},
   "outputs": [],
   "source": [
    "# Work out the mean loss of each CV regressor on the data\n",
    "accuracies = cross_val_score(estimator = base_regressor, X = X_train, y = Y_train, cv = 10, n_jobs = -1)"
   ]
  },
  {
   "cell_type": "code",
   "execution_count": 58,
   "metadata": {},
   "outputs": [
    {
     "data": {
      "image/png": "[encoded data removed]",
      "text/plain": [
       "<Figure size 432x288 with 1 Axes>"
      ]
     },
     "metadata": {
      "needs_background": "light"
     },
     "output_type": "display_data"
    }
   ],
   "source": [
    "_ = plt.hist(accuracies,bins=10,edgecolor='k')\n",
    "_ = plt.xlabel('Mean Loss')\n",
    "_ = plt.ylabel('Count')"
   ]
  },
  {
   "cell_type": "code",
   "execution_count": null,
   "metadata": {},
   "outputs": [],
   "source": [
    "# Appears one of the cross validation runs is doing much worse than the other 9"
   ]
  },
  {
   "cell_type": "code",
   "execution_count": 31,
   "metadata": {},
   "outputs": [],
   "source": [
    "base_regressor = KerasRegressor(build_fn=base_model)"
   ]
  },
  {
   "cell_type": "code",
   "execution_count": 49,
   "metadata": {},
   "outputs": [],
   "source": [
    "parameters = {'batch_size': [3,5,7,10],\n",
    "              'epochs': [100,150,200,250],\n",
    "             'optimizer': ['adam','RMSprop']}"
   ]
  },
  {
   "cell_type": "code",
   "execution_count": 50,
   "metadata": {},
   "outputs": [],
   "source": [
    "grid_search = GridSearchCV(estimator = base_regressor,\n",
    "                           param_grid = parameters,\n",
    "                           cv=5,\n",
    "                           n_jobs = -1)"
   ]
  },
  {
   "cell_type": "code",
   "execution_count": 52,
   "metadata": {},
   "outputs": [
    {
     "name": "stdout",
     "output_type": "stream",
     "text": [
      "Epoch 1/150\n",
      "11643/11643 [==============================] - 1s 113us/step - loss: 32917.7833\n",
      "Epoch 2/150\n",
      "11643/11643 [==============================] - 1s 107us/step - loss: 28479.5557\n",
      "Epoch 3/150\n",
      "11643/11643 [==============================] - 1s 106us/step - loss: 25969.5946\n",
      "Epoch 4/150\n",
      "11643/11643 [==============================] - 1s 105us/step - loss: 25352.0533\n",
      "Epoch 5/150\n",
      "11643/11643 [==============================] - 1s 105us/step - loss: 25023.7554\n",
      "Epoch 6/150\n",
      "11643/11643 [==============================] - 1s 106us/step - loss: 24774.6365\n",
      "Epoch 7/150\n",
      "11643/11643 [==============================] - 1s 106us/step - loss: 24497.6067\n",
      "Epoch 8/150\n",
      "11643/11643 [==============================] - 1s 105us/step - loss: 24359.3346\n",
      "Epoch 9/150\n",
      "11643/11643 [==============================] - 1s 107us/step - loss: 24037.7024\n",
      "Epoch 10/150\n",
      "11643/11643 [==============================] - 1s 105us/step - loss: 23721.5580\n",
      "Epoch 11/150\n",
      "11643/11643 [==============================] - 1s 105us/step - loss: 23322.7231\n",
      "Epoch 12/150\n",
      "11643/11643 [==============================] - 1s 105us/step - loss: 22920.7645\n",
      "Epoch 13/150\n",
      "11643/11643 [==============================] - 1s 105us/step - loss: 22712.6479\n",
      "Epoch 14/150\n",
      "11643/11643 [==============================] - 1s 105us/step - loss: 22463.4036\n",
      "Epoch 15/150\n",
      "11643/11643 [==============================] - 1s 105us/step - loss: 22204.1302\n",
      "Epoch 16/150\n",
      "11643/11643 [==============================] - 1s 105us/step - loss: 22083.4891\n",
      "Epoch 17/150\n",
      "11643/11643 [==============================] - 1s 106us/step - loss: 21873.5677\n",
      "Epoch 18/150\n",
      "11643/11643 [==============================] - 1s 106us/step - loss: 21658.5814\n",
      "Epoch 19/150\n",
      "11643/11643 [==============================] - 1s 105us/step - loss: 21556.0729\n",
      "Epoch 20/150\n",
      "11643/11643 [==============================] - 1s 106us/step - loss: 21145.9685\n",
      "Epoch 21/150\n",
      "11643/11643 [==============================] - 1s 105us/step - loss: 20473.1114\n",
      "Epoch 22/150\n",
      "11643/11643 [==============================] - 1s 106us/step - loss: 19815.7343\n",
      "Epoch 23/150\n",
      "11643/11643 [==============================] - 1s 106us/step - loss: 19218.3388\n",
      "Epoch 24/150\n",
      "11643/11643 [==============================] - 1s 106us/step - loss: 18862.3728\n",
      "Epoch 25/150\n",
      "11643/11643 [==============================] - 1s 105us/step - loss: 18624.9404\n",
      "Epoch 26/150\n",
      "11643/11643 [==============================] - 1s 106us/step - loss: 18510.2221\n",
      "Epoch 27/150\n",
      "11643/11643 [==============================] - 1s 105us/step - loss: 18428.9425\n",
      "Epoch 28/150\n",
      "11643/11643 [==============================] - 1s 104us/step - loss: 18239.8879\n",
      "Epoch 29/150\n",
      "11643/11643 [==============================] - 1s 104us/step - loss: 18163.8168\n",
      "Epoch 30/150\n",
      "11643/11643 [==============================] - 1s 104us/step - loss: 18127.0309\n",
      "Epoch 31/150\n",
      "11643/11643 [==============================] - 1s 104us/step - loss: 17946.7870\n",
      "Epoch 32/150\n",
      "11643/11643 [==============================] - 1s 104us/step - loss: 18132.4829\n",
      "Epoch 33/150\n",
      "11643/11643 [==============================] - 1s 104us/step - loss: 17999.3643\n",
      "Epoch 34/150\n",
      "11643/11643 [==============================] - 1s 104us/step - loss: 18028.5268\n",
      "Epoch 35/150\n",
      "11643/11643 [==============================] - 1s 104us/step - loss: 17983.3795\n",
      "Epoch 36/150\n",
      "11643/11643 [==============================] - 1s 104us/step - loss: 17866.0939\n",
      "Epoch 37/150\n",
      "11643/11643 [==============================] - 1s 104us/step - loss: 17818.9579\n",
      "Epoch 38/150\n",
      "11643/11643 [==============================] - 1s 104us/step - loss: 17801.9124\n",
      "Epoch 39/150\n",
      "11643/11643 [==============================] - 1s 105us/step - loss: 17736.2915\n",
      "Epoch 40/150\n",
      "11643/11643 [==============================] - 1s 103us/step - loss: 17831.5856\n",
      "Epoch 41/150\n",
      "11643/11643 [==============================] - 1s 104us/step - loss: 17669.6678\n",
      "Epoch 42/150\n",
      "11643/11643 [==============================] - 1s 104us/step - loss: 17705.8389\n",
      "Epoch 43/150\n",
      "11643/11643 [==============================] - 1s 103us/step - loss: 17682.2295\n",
      "Epoch 44/150\n",
      "11643/11643 [==============================] - 1s 104us/step - loss: 17674.0410\n",
      "Epoch 45/150\n",
      "11643/11643 [==============================] - 1s 103us/step - loss: 17794.2653\n",
      "Epoch 46/150\n",
      "11643/11643 [==============================] - 1s 104us/step - loss: 17672.5734\n",
      "Epoch 47/150\n",
      "11643/11643 [==============================] - 1s 104us/step - loss: 17702.6515\n",
      "Epoch 48/150\n",
      "11643/11643 [==============================] - 1s 104us/step - loss: 17678.9877\n",
      "Epoch 49/150\n",
      "11643/11643 [==============================] - 1s 104us/step - loss: 17640.5404\n",
      "Epoch 50/150\n",
      "11643/11643 [==============================] - 1s 104us/step - loss: 17564.6009\n",
      "Epoch 51/150\n",
      "11643/11643 [==============================] - 1s 104us/step - loss: 17600.7730\n",
      "Epoch 52/150\n",
      "11643/11643 [==============================] - 1s 105us/step - loss: 17623.4003\n",
      "Epoch 53/150\n",
      "11643/11643 [==============================] - 1s 106us/step - loss: 17493.6336\n",
      "Epoch 54/150\n",
      "11643/11643 [==============================] - 1s 106us/step - loss: 17525.3000\n",
      "Epoch 55/150\n",
      "11643/11643 [==============================] - 1s 106us/step - loss: 17587.1110\n",
      "Epoch 56/150\n",
      "11643/11643 [==============================] - 1s 106us/step - loss: 17552.7480\n",
      "Epoch 57/150\n",
      "11643/11643 [==============================] - 1s 106us/step - loss: 17560.2542\n",
      "Epoch 58/150\n",
      "11643/11643 [==============================] - 1s 106us/step - loss: 17544.2511\n",
      "Epoch 59/150\n",
      "11643/11643 [==============================] - 1s 106us/step - loss: 17501.1425\n",
      "Epoch 60/150\n",
      "11643/11643 [==============================] - 1s 106us/step - loss: 17474.6914\n",
      "Epoch 61/150\n",
      "11643/11643 [==============================] - 1s 105us/step - loss: 17355.2008\n",
      "Epoch 62/150\n",
      "11643/11643 [==============================] - 1s 106us/step - loss: 17480.7894\n",
      "Epoch 63/150\n",
      "11643/11643 [==============================] - 1s 106us/step - loss: 17419.6362\n",
      "Epoch 64/150\n",
      "11643/11643 [==============================] - 1s 105us/step - loss: 17451.6694\n",
      "Epoch 65/150\n",
      "11643/11643 [==============================] - 1s 108us/step - loss: 17419.0318\n",
      "Epoch 66/150\n",
      "11643/11643 [==============================] - 1s 105us/step - loss: 17463.7958\n",
      "Epoch 67/150\n",
      "11643/11643 [==============================] - 1s 105us/step - loss: 17355.7785\n",
      "Epoch 68/150\n",
      "11643/11643 [==============================] - 1s 105us/step - loss: 17410.2891\n",
      "Epoch 69/150\n",
      "11643/11643 [==============================] - 1s 105us/step - loss: 17361.7670\n",
      "Epoch 70/150\n",
      "11643/11643 [==============================] - 1s 105us/step - loss: 17354.7995\n",
      "Epoch 71/150\n",
      "11643/11643 [==============================] - 1s 104us/step - loss: 17463.2121\n",
      "Epoch 72/150\n",
      "11643/11643 [==============================] - 1s 105us/step - loss: 17368.2484\n",
      "Epoch 73/150\n",
      "11643/11643 [==============================] - 1s 104us/step - loss: 17343.0244\n",
      "Epoch 74/150\n",
      "11643/11643 [==============================] - 1s 105us/step - loss: 17283.0143\n",
      "Epoch 75/150\n",
      "11643/11643 [==============================] - 1s 105us/step - loss: 17322.0869\n",
      "Epoch 76/150\n",
      "11643/11643 [==============================] - 1s 106us/step - loss: 17279.3940\n",
      "Epoch 77/150\n",
      "11643/11643 [==============================] - 1s 107us/step - loss: 17362.3837\n",
      "Epoch 78/150\n",
      "11643/11643 [==============================] - 1s 107us/step - loss: 17297.4140\n",
      "Epoch 79/150\n",
      "11643/11643 [==============================] - 1s 106us/step - loss: 17309.5919\n",
      "Epoch 80/150\n",
      "11643/11643 [==============================] - 1s 106us/step - loss: 17354.6993\n",
      "Epoch 81/150\n",
      "11643/11643 [==============================] - 1s 106us/step - loss: 17255.9106\n",
      "Epoch 82/150\n",
      "11643/11643 [==============================] - 1s 107us/step - loss: 17264.4780\n",
      "Epoch 83/150\n",
      "11643/11643 [==============================] - 1s 107us/step - loss: 17233.0149\n",
      "Epoch 84/150\n",
      "11643/11643 [==============================] - 1s 107us/step - loss: 17308.1781\n",
      "Epoch 85/150\n",
      "11643/11643 [==============================] - 1s 106us/step - loss: 17220.2573\n",
      "Epoch 86/150\n",
      "11643/11643 [==============================] - 1s 107us/step - loss: 17201.6943\n",
      "Epoch 87/150\n",
      "11643/11643 [==============================] - 1s 106us/step - loss: 17213.2995\n",
      "Epoch 88/150\n",
      "11643/11643 [==============================] - 1s 106us/step - loss: 17330.5046\n",
      "Epoch 89/150\n",
      "11643/11643 [==============================] - 1s 106us/step - loss: 17244.1689\n",
      "Epoch 90/150\n",
      "11643/11643 [==============================] - 1s 106us/step - loss: 17333.1108\n",
      "Epoch 91/150\n",
      "11643/11643 [==============================] - 1s 106us/step - loss: 17320.4708\n",
      "Epoch 92/150\n",
      "11643/11643 [==============================] - 1s 106us/step - loss: 17253.3405\n",
      "Epoch 93/150\n",
      "11643/11643 [==============================] - 1s 106us/step - loss: 17263.1934\n",
      "Epoch 94/150\n",
      "11643/11643 [==============================] - 1s 107us/step - loss: 17221.4328\n",
      "Epoch 95/150\n",
      "11643/11643 [==============================] - 1s 106us/step - loss: 17143.4815\n",
      "Epoch 96/150\n",
      "11643/11643 [==============================] - 1s 106us/step - loss: 17206.3008\n",
      "Epoch 97/150\n",
      "11643/11643 [==============================] - 1s 106us/step - loss: 17213.1807\n",
      "Epoch 98/150\n",
      "11643/11643 [==============================] - 1s 106us/step - loss: 17250.1385\n",
      "Epoch 99/150\n",
      "11643/11643 [==============================] - 1s 106us/step - loss: 17127.1076\n",
      "Epoch 100/150\n",
      "11643/11643 [==============================] - ETA: 0s - loss: 17203.930 - 1s 106us/step - loss: 17218.7427\n",
      "Epoch 101/150\n",
      "11643/11643 [==============================] - 1s 106us/step - loss: 17219.6501\n",
      "Epoch 102/150\n",
      "11643/11643 [==============================] - 1s 106us/step - loss: 17188.0625\n",
      "Epoch 103/150\n",
      "11643/11643 [==============================] - 1s 107us/step - loss: 17090.9847\n",
      "Epoch 104/150\n",
      "11643/11643 [==============================] - 1s 106us/step - loss: 17185.9639\n",
      "Epoch 105/150\n",
      "11643/11643 [==============================] - 1s 106us/step - loss: 17098.5592\n",
      "Epoch 106/150\n",
      "11643/11643 [==============================] - 1s 106us/step - loss: 17095.4262\n",
      "Epoch 107/150\n",
      "11643/11643 [==============================] - 1s 107us/step - loss: 17137.4352\n",
      "Epoch 108/150\n",
      "11643/11643 [==============================] - 1s 106us/step - loss: 17108.5269\n",
      "Epoch 109/150\n",
      "11643/11643 [==============================] - 1s 106us/step - loss: 17196.2466\n",
      "Epoch 110/150\n",
      "11643/11643 [==============================] - 1s 105us/step - loss: 17146.3095\n",
      "Epoch 111/150\n",
      "11643/11643 [==============================] - 1s 106us/step - loss: 17154.9771\n",
      "Epoch 112/150\n",
      "11643/11643 [==============================] - 1s 105us/step - loss: 17162.4808\n",
      "Epoch 113/150\n",
      "11643/11643 [==============================] - 1s 106us/step - loss: 17108.3073\n",
      "Epoch 114/150\n",
      "11643/11643 [==============================] - 1s 105us/step - loss: 17131.8864\n",
      "Epoch 115/150\n",
      "11643/11643 [==============================] - 1s 106us/step - loss: 17091.0764\n",
      "Epoch 116/150\n",
      "11643/11643 [==============================] - 1s 106us/step - loss: 17095.7259\n",
      "Epoch 117/150\n",
      "11643/11643 [==============================] - 1s 105us/step - loss: 17024.0577\n",
      "Epoch 118/150\n",
      "11643/11643 [==============================] - 1s 105us/step - loss: 17011.5557\n",
      "Epoch 119/150\n",
      "11643/11643 [==============================] - 1s 106us/step - loss: 17141.3146\n",
      "Epoch 120/150\n",
      "11643/11643 [==============================] - 1s 106us/step - loss: 17053.5892\n",
      "Epoch 121/150\n",
      "11643/11643 [==============================] - 1s 106us/step - loss: 17035.7823\n",
      "Epoch 122/150\n",
      "11643/11643 [==============================] - 1s 105us/step - loss: 17140.6629\n",
      "Epoch 123/150\n",
      "11643/11643 [==============================] - 1s 105us/step - loss: 17060.1482\n",
      "Epoch 124/150\n",
      "11643/11643 [==============================] - 1s 105us/step - loss: 17059.0550\n",
      "Epoch 125/150\n",
      "11643/11643 [==============================] - 1s 105us/step - loss: 17108.8150\n",
      "Epoch 126/150\n",
      "11643/11643 [==============================] - 1s 105us/step - loss: 17035.0929\n",
      "Epoch 127/150\n",
      "11643/11643 [==============================] - 1s 106us/step - loss: 17027.7097\n",
      "Epoch 128/150\n",
      "11643/11643 [==============================] - 1s 105us/step - loss: 17024.4825\n",
      "Epoch 129/150\n",
      "11643/11643 [==============================] - 1s 106us/step - loss: 17074.3935\n",
      "Epoch 130/150\n",
      "11643/11643 [==============================] - 1s 106us/step - loss: 17071.8101\n",
      "Epoch 131/150\n",
      "11643/11643 [==============================] - 1s 106us/step - loss: 17044.6421\n",
      "Epoch 132/150\n",
      "11643/11643 [==============================] - 1s 127us/step - loss: 17037.8742\n",
      "Epoch 133/150\n",
      "11643/11643 [==============================] - 1s 110us/step - loss: 17032.9472\n",
      "Epoch 134/150\n",
      "11643/11643 [==============================] - 1s 109us/step - loss: 17052.8946\n",
      "Epoch 135/150\n",
      "11643/11643 [==============================] - 1s 110us/step - loss: 17030.0738\n",
      "Epoch 136/150\n",
      "11643/11643 [==============================] - 1s 111us/step - loss: 17042.4764\n",
      "Epoch 137/150\n",
      "11643/11643 [==============================] - 1s 114us/step - loss: 17048.4597\n",
      "Epoch 138/150\n",
      "11643/11643 [==============================] - 1s 112us/step - loss: 17002.7771\n",
      "Epoch 139/150\n",
      "11643/11643 [==============================] - 1s 110us/step - loss: 16995.3684\n",
      "Epoch 140/150\n",
      "11643/11643 [==============================] - 1s 111us/step - loss: 16977.8023\n",
      "Epoch 141/150\n",
      "11643/11643 [==============================] - 1s 110us/step - loss: 16971.8401\n",
      "Epoch 142/150\n",
      "11643/11643 [==============================] - 1s 111us/step - loss: 17038.4352\n",
      "Epoch 143/150\n",
      "11643/11643 [==============================] - 1s 110us/step - loss: 17031.8030\n",
      "Epoch 144/150\n",
      "11643/11643 [==============================] - 1s 110us/step - loss: 17026.8418\n",
      "Epoch 145/150\n",
      "11643/11643 [==============================] - 1s 116us/step - loss: 16968.4758\n",
      "Epoch 146/150\n",
      "11643/11643 [==============================] - 1s 109us/step - loss: 16993.6600\n",
      "Epoch 147/150\n",
      "11643/11643 [==============================] - 1s 107us/step - loss: 17054.1778\n",
      "Epoch 148/150\n",
      "11643/11643 [==============================] - 1s 107us/step - loss: 16971.1024\n",
      "Epoch 149/150\n",
      "11643/11643 [==============================] - 1s 108us/step - loss: 16983.6329\n",
      "Epoch 150/150\n",
      "11643/11643 [==============================] - 1s 110us/step - loss: 16966.4156\n"
     ]
    }
   ],
   "source": [
    "grid__results = grid_search.fit(X_train, Y_train)"
   ]
  },
  {
   "cell_type": "code",
   "execution_count": 53,
   "metadata": {},
   "outputs": [
    {
     "name": "stdout",
     "output_type": "stream",
     "text": [
      "-21797.745114 (2636.204252) with: {'batch_size': 3, 'epochs': 100, 'optimizer': 'adam'}\n",
      "-20942.128140 (1527.236376) with: {'batch_size': 3, 'epochs': 100, 'optimizer': 'RMSprop'}\n",
      "-19268.904861 (2397.161382) with: {'batch_size': 3, 'epochs': 150, 'optimizer': 'adam'}\n",
      "-20620.830377 (1749.366176) with: {'batch_size': 3, 'epochs': 150, 'optimizer': 'RMSprop'}\n",
      "-19298.617692 (2460.417123) with: {'batch_size': 3, 'epochs': 200, 'optimizer': 'adam'}\n",
      "-19099.484099 (2359.822475) with: {'batch_size': 3, 'epochs': 200, 'optimizer': 'RMSprop'}\n",
      "-18557.744175 (2327.528570) with: {'batch_size': 3, 'epochs': 250, 'optimizer': 'adam'}\n",
      "-18310.623373 (1908.891364) with: {'batch_size': 3, 'epochs': 250, 'optimizer': 'RMSprop'}\n",
      "-19158.427285 (2040.867745) with: {'batch_size': 5, 'epochs': 100, 'optimizer': 'adam'}\n",
      "-21210.490131 (2779.852832) with: {'batch_size': 5, 'epochs': 100, 'optimizer': 'RMSprop'}\n",
      "-18683.790109 (2076.019715) with: {'batch_size': 5, 'epochs': 150, 'optimizer': 'adam'}\n",
      "-16976.224501 (1001.938340) with: {'batch_size': 5, 'epochs': 150, 'optimizer': 'RMSprop'}\n",
      "-19532.766184 (2542.016354) with: {'batch_size': 5, 'epochs': 200, 'optimizer': 'adam'}\n",
      "-21826.743768 (5452.171741) with: {'batch_size': 5, 'epochs': 200, 'optimizer': 'RMSprop'}\n",
      "-23223.101795 (6460.187597) with: {'batch_size': 5, 'epochs': 250, 'optimizer': 'adam'}\n",
      "-19273.458176 (3072.408561) with: {'batch_size': 5, 'epochs': 250, 'optimizer': 'RMSprop'}\n",
      "-20785.003799 (6863.767464) with: {'batch_size': 7, 'epochs': 100, 'optimizer': 'adam'}\n",
      "-20057.297026 (2770.561920) with: {'batch_size': 7, 'epochs': 100, 'optimizer': 'RMSprop'}\n",
      "-20335.469622 (2209.164456) with: {'batch_size': 7, 'epochs': 150, 'optimizer': 'adam'}\n",
      "-19387.677740 (2672.339508) with: {'batch_size': 7, 'epochs': 150, 'optimizer': 'RMSprop'}\n",
      "-21285.434166 (3210.263232) with: {'batch_size': 7, 'epochs': 200, 'optimizer': 'adam'}\n",
      "-18589.295568 (2969.319366) with: {'batch_size': 7, 'epochs': 200, 'optimizer': 'RMSprop'}\n",
      "-19395.175306 (2953.523794) with: {'batch_size': 7, 'epochs': 250, 'optimizer': 'adam'}\n",
      "-22524.336094 (2203.529716) with: {'batch_size': 7, 'epochs': 250, 'optimizer': 'RMSprop'}\n",
      "-21043.375759 (1788.960900) with: {'batch_size': 10, 'epochs': 100, 'optimizer': 'adam'}\n",
      "-19676.129344 (3053.415049) with: {'batch_size': 10, 'epochs': 100, 'optimizer': 'RMSprop'}\n",
      "-19202.311235 (3231.026904) with: {'batch_size': 10, 'epochs': 150, 'optimizer': 'adam'}\n",
      "-19999.860169 (2928.446567) with: {'batch_size': 10, 'epochs': 150, 'optimizer': 'RMSprop'}\n",
      "-18539.939250 (2578.263933) with: {'batch_size': 10, 'epochs': 200, 'optimizer': 'adam'}\n",
      "-19179.359598 (646.362197) with: {'batch_size': 10, 'epochs': 200, 'optimizer': 'RMSprop'}\n",
      "-17993.864697 (1537.470865) with: {'batch_size': 10, 'epochs': 250, 'optimizer': 'adam'}\n",
      "-19558.679686 (2465.678809) with: {'batch_size': 10, 'epochs': 250, 'optimizer': 'RMSprop'}\n"
     ]
    }
   ],
   "source": [
    "means = grid__results.cv_results_['mean_test_score']\n",
    "stds = grid__results.cv_results_['std_test_score']\n",
    "params = grid__results.cv_results_['params']\n",
    "for mean, stdev, param in zip(means, stds, params):\n",
    "    print(\"%f (%f) with: %r\" % (mean, stdev, param))"
   ]
  },
  {
   "cell_type": "code",
   "execution_count": 55,
   "metadata": {},
   "outputs": [
    {
     "data": {
      "text/plain": [
       "{'batch_size': 5, 'epochs': 150, 'optimizer': 'RMSprop'}"
      ]
     },
     "execution_count": 55,
     "metadata": {},
     "output_type": "execute_result"
    }
   ],
   "source": [
    "grid_search.best_params_"
   ]
  },
  {
   "cell_type": "code",
   "execution_count": 56,
   "metadata": {},
   "outputs": [
    {
     "data": {
      "text/plain": [
       "-16976.224500574543"
      ]
     },
     "execution_count": 56,
     "metadata": {},
     "output_type": "execute_result"
    }
   ],
   "source": [
    "grid_search.best_score_"
   ]
  },
  {
   "cell_type": "code",
   "execution_count": 57,
   "metadata": {},
   "outputs": [],
   "source": [
    "best_NN_model = grid_search.best_estimator_.model"
   ]
  },
  {
   "cell_type": "code",
   "execution_count": 58,
   "metadata": {},
   "outputs": [],
   "source": [
    "y_nn_pred = best_NN_model.predict(x_test)"
   ]
  },
  {
   "cell_type": "code",
   "execution_count": 132,
   "metadata": {},
   "outputs": [
    {
     "data": {
      "text/plain": [
       "Text(0, 0.5, 'Bike Count predicted')"
      ]
     },
     "execution_count": 132,
     "metadata": {},
     "output_type": "execute_result"
    },
    {
     "data": {
      "image/png": "[encoded data removed]",
      "text/plain": [
       "<Figure size 720x360 with 1 Axes>"
      ]
     },
     "metadata": {
      "needs_background": "light"
     },
     "output_type": "display_data"
    }
   ],
   "source": [
    "plt.figure(figsize=(10,5))\n",
    "_ = plt.title('ANN')\n",
    "plt.plot(y_test,y_nn_pred,\n",
    "         linestyle='none',\n",
    "         marker='o',\n",
    "         mfc='none',\n",
    "         mec='k',\n",
    "        alpha=0.5,\n",
    "        ms=1)\n",
    "plt.plot(np.linspace(0,max(y_test)),np.linspace(0,max(y_nn_pred)))\n",
    "plt.xlabel('Bike Count acutal')\n",
    "plt.ylabel('Bike Count predicted')\n"
   ]
  },
  {
   "cell_type": "markdown",
   "metadata": {},
   "source": [
    "The ANN is struggling to predict low numbers of bike counts, lets try reshaping the model"
   ]
  },
  {
   "cell_type": "markdown",
   "metadata": {},
   "source": [
    " # Take Two at neural net building"
   ]
  },
  {
   "cell_type": "markdown",
   "metadata": {},
   "source": [
    "Okay, so the first attempt at the ANN performed much worse than the simple decision tree. Now I want to delve deeper into the structure of the NN to see if I can improve the score."
   ]
  },
  {
   "cell_type": "code",
   "execution_count": 15,
   "metadata": {},
   "outputs": [],
   "source": [
    "from keras.layers import InputLayer"
   ]
  },
  {
   "cell_type": "code",
   "execution_count": 16,
   "metadata": {},
   "outputs": [],
   "source": [
    "def base_model2(n_hidden=1,n_neurons=30, learning_rate=3e-3,input_shape=[12],optimizer = 'RMSprop'):\n",
    "    model = Sequential()\n",
    "    model.add(InputLayer(input_shape=input_shape))\n",
    "    for i in range(n_hidden):\n",
    "        model.add(Dense(n_neurons,activation='relu'))\n",
    "    model.add(Dense(units=1))\n",
    "    model.compile(loss='mean_squared_error',optimizer=optimizer)\n",
    "    return model"
   ]
  },
  {
   "cell_type": "code",
   "execution_count": 17,
   "metadata": {},
   "outputs": [],
   "source": [
    "base_regressor_2 = KerasRegressor(build_fn=base_model2)"
   ]
  },
  {
   "cell_type": "code",
   "execution_count": 18,
   "metadata": {},
   "outputs": [],
   "source": [
    "param_take2 = {\n",
    "    'n_hidden': [7,8,9,10],\n",
    "    'n_neurons':[20,25,30],\n",
    "    'epochs':[150,200,250],\n",
    "    'batch_size': [3,5,7],\n",
    "    #'learning_rate':[3e-2,0.02,0.01,0.015,0.1]\n",
    "}"
   ]
  },
  {
   "cell_type": "code",
   "execution_count": 19,
   "metadata": {},
   "outputs": [],
   "source": [
    "X_train_sub,X_valid,y_train_sub,y_valid = train_test_split(X_train,Y_train,random_state=42)"
   ]
  },
  {
   "cell_type": "code",
   "execution_count": 22,
   "metadata": {},
   "outputs": [
    {
     "name": "stdout",
     "output_type": "stream",
     "text": [
      "Train on 8732 samples, validate on 2911 samples\n",
      "Epoch 1/200\n",
      "8732/8732 [==============================] - 2s 219us/step - loss: 22252.4012 - val_loss: 16576.2965\n",
      "Epoch 2/200\n",
      "8732/8732 [==============================] - 2s 200us/step - loss: 14970.5321 - val_loss: 14614.0939\n",
      "Epoch 3/200\n",
      "8732/8732 [==============================] - 2s 210us/step - loss: 12452.7247 - val_loss: 11799.0168\n",
      "Epoch 4/200\n",
      "8732/8732 [==============================] - 2s 210us/step - loss: 10916.0848 - val_loss: 11805.0136\n",
      "Epoch 5/200\n",
      "8732/8732 [==============================] - 2s 218us/step - loss: 9288.7592 - val_loss: 8068.7689\n",
      "Epoch 6/200\n",
      "8732/8732 [==============================] - 2s 215us/step - loss: 7038.9143 - val_loss: 5565.7566\n",
      "Epoch 7/200\n",
      "8732/8732 [==============================] - 2s 205us/step - loss: 5368.2457 - val_loss: 4765.6250\n",
      "Epoch 8/200\n",
      "8732/8732 [==============================] - 2s 203us/step - loss: 4408.7956 - val_loss: 4684.2481\n",
      "Epoch 9/200\n",
      "8732/8732 [==============================] - 2s 207us/step - loss: 3876.6654 - val_loss: 3843.8419\n",
      "Epoch 10/200\n",
      "8732/8732 [==============================] - 2s 206us/step - loss: 3572.6000 - val_loss: 3438.7699\n",
      "Epoch 11/200\n",
      "8732/8732 [==============================] - 2s 208us/step - loss: 3359.5036 - val_loss: 4143.5312\n",
      "Epoch 12/200\n",
      "8732/8732 [==============================] - 2s 207us/step - loss: 3150.4210 - val_loss: 3369.2746\n",
      "Epoch 13/200\n",
      "8732/8732 [==============================] - 2s 201us/step - loss: 2871.5138 - val_loss: 2729.8415\n",
      "Epoch 14/200\n",
      "8732/8732 [==============================] - 2s 200us/step - loss: 2803.2432 - val_loss: 4344.1242\n",
      "Epoch 15/200\n",
      "8732/8732 [==============================] - 2s 202us/step - loss: 2742.9845 - val_loss: 2739.5002\n",
      "Epoch 16/200\n",
      "8732/8732 [==============================] - 2s 198us/step - loss: 2649.5611 - val_loss: 3367.3803\n",
      "Epoch 17/200\n",
      "8732/8732 [==============================] - 2s 202us/step - loss: 2605.5395 - val_loss: 2706.4096\n",
      "Epoch 18/200\n",
      "8732/8732 [==============================] - 2s 203us/step - loss: 2499.1986 - val_loss: 2676.9868\n",
      "Epoch 19/200\n",
      "8732/8732 [==============================] - 2s 197us/step - loss: 2405.8254 - val_loss: 2531.0121\n",
      "Epoch 20/200\n",
      "8732/8732 [==============================] - 2s 201us/step - loss: 2400.0570 - val_loss: 2590.2414\n",
      "Epoch 21/200\n",
      "8732/8732 [==============================] - 2s 206us/step - loss: 2309.2387 - val_loss: 2787.4615\n",
      "Epoch 22/200\n",
      "8732/8732 [==============================] - 2s 208us/step - loss: 2301.6862 - val_loss: 2339.4854\n",
      "Epoch 23/200\n",
      "8732/8732 [==============================] - 2s 201us/step - loss: 2225.2994 - val_loss: 2568.6798\n",
      "Epoch 24/200\n",
      "8732/8732 [==============================] - 2s 202us/step - loss: 2201.5624 - val_loss: 2596.6928\n",
      "Epoch 25/200\n",
      "8732/8732 [==============================] - 2s 201us/step - loss: 2174.6138 - val_loss: 2848.4418\n",
      "Epoch 26/200\n",
      "8732/8732 [==============================] - 2s 202us/step - loss: 2134.9418 - val_loss: 2564.0101\n",
      "Epoch 27/200\n",
      "8732/8732 [==============================] - 2s 207us/step - loss: 2110.8506 - val_loss: 3595.5674\n",
      "Epoch 28/200\n",
      "8732/8732 [==============================] - 2s 208us/step - loss: 2127.4973 - val_loss: 2446.8667\n",
      "Epoch 29/200\n",
      "8732/8732 [==============================] - 2s 205us/step - loss: 2107.8082 - val_loss: 3241.8357\n",
      "Epoch 30/200\n",
      "8732/8732 [==============================] - 2s 202us/step - loss: 2079.1062 - val_loss: 2208.4609\n",
      "Epoch 31/200\n",
      "8732/8732 [==============================] - 2s 202us/step - loss: 2031.6135 - val_loss: 2303.6992\n",
      "Epoch 32/200\n",
      "8732/8732 [==============================] - 2s 204us/step - loss: 2036.7636 - val_loss: 2522.7734\n",
      "Epoch 33/200\n",
      "8732/8732 [==============================] - 2s 204us/step - loss: 1978.0674 - val_loss: 2386.8052\n",
      "Epoch 34/200\n",
      "8732/8732 [==============================] - 2s 203us/step - loss: 1986.2148 - val_loss: 2947.9703\n",
      "Epoch 35/200\n",
      "8732/8732 [==============================] - 2s 202us/step - loss: 1962.6646 - val_loss: 2463.3312\n",
      "Epoch 36/200\n",
      "8732/8732 [==============================] - 2s 210us/step - loss: 1923.4584 - val_loss: 3091.6154\n",
      "Epoch 37/200\n",
      "8732/8732 [==============================] - 2s 206us/step - loss: 1957.8077 - val_loss: 2435.6039\n",
      "Epoch 38/200\n",
      "8732/8732 [==============================] - 2s 197us/step - loss: 1909.5512 - val_loss: 2458.7210\n",
      "Epoch 39/200\n",
      "8732/8732 [==============================] - 2s 199us/step - loss: 1904.1180 - val_loss: 2663.4681\n",
      "Epoch 40/200\n",
      "8732/8732 [==============================] - 2s 201us/step - loss: 1894.0741 - val_loss: 3171.3693\n",
      "Epoch 41/200\n",
      "8732/8732 [==============================] - 2s 199us/step - loss: 1881.7445 - val_loss: 2139.4281\n",
      "Epoch 42/200\n",
      "8732/8732 [==============================] - 2s 198us/step - loss: 1875.9399 - val_loss: 2497.6435\n",
      "Epoch 43/200\n",
      "8732/8732 [==============================] - 2s 203us/step - loss: 1888.9313 - val_loss: 2171.6882\n",
      "Epoch 44/200\n",
      "8732/8732 [==============================] - 2s 202us/step - loss: 1800.1460 - val_loss: 2646.8776\n",
      "Epoch 45/200\n",
      "8732/8732 [==============================] - 2s 210us/step - loss: 1838.0708 - val_loss: 2293.0293\n",
      "Epoch 46/200\n",
      "8732/8732 [==============================] - 2s 208us/step - loss: 1768.0717 - val_loss: 2828.4676\n",
      "Epoch 47/200\n",
      "8732/8732 [==============================] - 2s 208us/step - loss: 1794.9898 - val_loss: 2231.9999\n",
      "Epoch 48/200\n",
      "8732/8732 [==============================] - 2s 203us/step - loss: 1786.3633 - val_loss: 2202.1887\n",
      "Epoch 49/200\n",
      "8732/8732 [==============================] - 2s 200us/step - loss: 1759.2688 - val_loss: 2341.7546\n",
      "Epoch 50/200\n",
      "8732/8732 [==============================] - 2s 209us/step - loss: 1775.5278 - val_loss: 2432.6849\n",
      "Epoch 51/200\n",
      "8732/8732 [==============================] - 2s 203us/step - loss: 1760.0037 - val_loss: 2184.0954\n",
      "Epoch 52/200\n",
      "8732/8732 [==============================] - 2s 206us/step - loss: 1729.4477 - val_loss: 2468.1862\n",
      "Epoch 53/200\n",
      "8732/8732 [==============================] - 2s 209us/step - loss: 1709.3220 - val_loss: 4072.7449\n",
      "Epoch 54/200\n",
      "8732/8732 [==============================] - 2s 207us/step - loss: 1729.6219 - val_loss: 2208.7882\n",
      "Epoch 55/200\n",
      "8732/8732 [==============================] - 2s 205us/step - loss: 1725.7228 - val_loss: 2500.7493\n",
      "Epoch 56/200\n",
      "8732/8732 [==============================] - 2s 205us/step - loss: 1714.4116 - val_loss: 2574.1515\n",
      "Epoch 57/200\n",
      "8732/8732 [==============================] - 2s 203us/step - loss: 1707.0468 - val_loss: 2172.9401\n",
      "Epoch 58/200\n",
      "8732/8732 [==============================] - 2s 203us/step - loss: 1658.1854 - val_loss: 2102.2723\n",
      "Epoch 59/200\n",
      "8732/8732 [==============================] - 2s 204us/step - loss: 1649.1445 - val_loss: 2126.5975\n",
      "Epoch 60/200\n",
      "8732/8732 [==============================] - 2s 203us/step - loss: 1687.0547 - val_loss: 2098.2815\n",
      "Epoch 61/200\n",
      "8732/8732 [==============================] - 2s 202us/step - loss: 1680.3329 - val_loss: 2049.0288\n",
      "Epoch 62/200\n",
      "8732/8732 [==============================] - 2s 202us/step - loss: 1645.0537 - val_loss: 2546.9437\n",
      "Epoch 63/200\n",
      "8732/8732 [==============================] - 2s 202us/step - loss: 1647.2676 - val_loss: 2403.1243\n",
      "Epoch 64/200\n",
      "8732/8732 [==============================] - 2s 204us/step - loss: 1597.4279 - val_loss: 2459.3280\n",
      "Epoch 65/200\n",
      "8732/8732 [==============================] - 2s 203us/step - loss: 1625.3364 - val_loss: 2092.4011\n",
      "Epoch 66/200\n",
      "8732/8732 [==============================] - 2s 204us/step - loss: 1597.5913 - val_loss: 2347.1522\n",
      "Epoch 67/200\n",
      "8732/8732 [==============================] - 2s 207us/step - loss: 1610.6637 - val_loss: 2703.8651\n",
      "Epoch 68/200\n",
      "8732/8732 [==============================] - 2s 205us/step - loss: 1593.3608 - val_loss: 2039.2817\n",
      "Epoch 69/200\n",
      "8732/8732 [==============================] - 2s 201us/step - loss: 1623.2628 - val_loss: 2440.9489\n",
      "Epoch 70/200\n",
      "8732/8732 [==============================] - 2s 201us/step - loss: 1591.0722 - val_loss: 2347.4770\n",
      "Epoch 71/200\n",
      "8732/8732 [==============================] - 2s 203us/step - loss: 1592.0351 - val_loss: 2164.5394\n",
      "Epoch 72/200\n",
      "8732/8732 [==============================] - 2s 202us/step - loss: 1570.7784 - val_loss: 2194.7647\n",
      "Epoch 73/200\n"
     ]
    },
    {
     "name": "stdout",
     "output_type": "stream",
     "text": [
      "8732/8732 [==============================] - 2s 202us/step - loss: 1612.4211 - val_loss: 2337.4806\n",
      "Epoch 74/200\n",
      "8732/8732 [==============================] - 2s 201us/step - loss: 1565.0632 - val_loss: 2268.5919\n",
      "Epoch 75/200\n",
      "8732/8732 [==============================] - 2s 202us/step - loss: 1568.6768 - val_loss: 2094.1596\n",
      "Epoch 76/200\n",
      "8732/8732 [==============================] - 2s 203us/step - loss: 1550.5825 - val_loss: 2170.8212\n",
      "Epoch 77/200\n",
      "8732/8732 [==============================] - 2s 203us/step - loss: 1539.0487 - val_loss: 2573.7313\n",
      "Epoch 78/200\n",
      "8732/8732 [==============================] - 2s 205us/step - loss: 1559.3011 - val_loss: 2302.1371\n",
      "Epoch 79/200\n",
      "8732/8732 [==============================] - 2s 203us/step - loss: 1555.0081 - val_loss: 2171.5030\n",
      "Epoch 80/200\n",
      "8732/8732 [==============================] - 2s 198us/step - loss: 1528.6663 - val_loss: 2851.7941\n",
      "Epoch 81/200\n",
      "8732/8732 [==============================] - 2s 197us/step - loss: 1527.1939 - val_loss: 2122.5120\n",
      "Epoch 82/200\n",
      "8732/8732 [==============================] - 2s 199us/step - loss: 1538.2258 - val_loss: 2183.7755\n",
      "Epoch 83/200\n",
      "8732/8732 [==============================] - 2s 199us/step - loss: 1486.7064 - val_loss: 2244.7727\n",
      "Epoch 84/200\n",
      "8732/8732 [==============================] - 2s 200us/step - loss: 1512.4545 - val_loss: 2153.4722\n",
      "Epoch 85/200\n",
      "8732/8732 [==============================] - 2s 203us/step - loss: 1507.0437 - val_loss: 2321.4816\n",
      "Epoch 86/200\n",
      "8732/8732 [==============================] - 2s 205us/step - loss: 1495.4790 - val_loss: 2140.4291\n",
      "Epoch 87/200\n",
      "8732/8732 [==============================] - 2s 207us/step - loss: 1482.6730 - val_loss: 2326.0131\n",
      "Epoch 88/200\n",
      "8732/8732 [==============================] - 2s 207us/step - loss: 1462.5107 - val_loss: 2591.3486\n",
      "Epoch 89/200\n",
      "8732/8732 [==============================] - 2s 205us/step - loss: 1475.1885 - val_loss: 2103.1920\n",
      "Epoch 90/200\n",
      "8732/8732 [==============================] - 2s 203us/step - loss: 1478.1753 - val_loss: 2196.4677\n",
      "Epoch 91/200\n",
      "8732/8732 [==============================] - 2s 202us/step - loss: 1460.9097 - val_loss: 2148.7395\n",
      "Epoch 92/200\n",
      "8732/8732 [==============================] - 2s 201us/step - loss: 1464.3289 - val_loss: 2166.7129\n",
      "Epoch 93/200\n",
      "8732/8732 [==============================] - 2s 203us/step - loss: 1494.9838 - val_loss: 2169.1500\n",
      "Epoch 94/200\n",
      "8732/8732 [==============================] - 2s 206us/step - loss: 1499.0232 - val_loss: 2033.0202\n",
      "Epoch 95/200\n",
      "8732/8732 [==============================] - 2s 203us/step - loss: 1447.4341 - val_loss: 2286.7179\n",
      "Epoch 96/200\n",
      "8732/8732 [==============================] - 2s 205us/step - loss: 1457.8190 - val_loss: 2193.9229\n",
      "Epoch 97/200\n",
      "8732/8732 [==============================] - 2s 202us/step - loss: 1464.7564 - val_loss: 2098.4025\n",
      "Epoch 98/200\n",
      "8732/8732 [==============================] - 2s 203us/step - loss: 1451.7595 - val_loss: 2103.4531\n",
      "Epoch 99/200\n",
      "8732/8732 [==============================] - 2s 203us/step - loss: 1457.6351 - val_loss: 2358.3831\n",
      "Epoch 100/200\n",
      "8732/8732 [==============================] - 2s 205us/step - loss: 1440.1670 - val_loss: 2167.6351\n",
      "Epoch 101/200\n",
      "8732/8732 [==============================] - 2s 202us/step - loss: 1412.8310 - val_loss: 2128.4535\n",
      "Epoch 102/200\n",
      "8732/8732 [==============================] - 2s 200us/step - loss: 1439.9489 - val_loss: 2169.5798\n",
      "Epoch 103/200\n",
      "8732/8732 [==============================] - 2s 202us/step - loss: 1433.7348 - val_loss: 2298.6080\n",
      "Epoch 104/200\n",
      "8732/8732 [==============================] - 2s 201us/step - loss: 1439.5176 - val_loss: 2263.8295\n",
      "Epoch 105/200\n",
      "8732/8732 [==============================] - 2s 202us/step - loss: 1437.7144 - val_loss: 2086.2763\n",
      "Epoch 106/200\n",
      "8732/8732 [==============================] - 2s 202us/step - loss: 1402.8602 - val_loss: 2285.7599\n",
      "Epoch 107/200\n",
      "8732/8732 [==============================] - 2s 205us/step - loss: 1402.7688 - val_loss: 2174.5370\n",
      "Epoch 108/200\n",
      "8732/8732 [==============================] - 2s 202us/step - loss: 1410.6001 - val_loss: 1972.7399\n",
      "Epoch 109/200\n",
      "8732/8732 [==============================] - 2s 203us/step - loss: 1413.4057 - val_loss: 2190.5845\n",
      "Epoch 110/200\n",
      "8732/8732 [==============================] - 2s 202us/step - loss: 1368.6965 - val_loss: 2387.3779\n",
      "Epoch 111/200\n",
      "8732/8732 [==============================] - 2s 202us/step - loss: 1391.1401 - val_loss: 2316.0132\n",
      "Epoch 112/200\n",
      "8732/8732 [==============================] - 2s 200us/step - loss: 1386.4879 - val_loss: 2520.8707\n",
      "Epoch 113/200\n",
      "8732/8732 [==============================] - 2s 200us/step - loss: 1373.8759 - val_loss: 2231.2046\n",
      "Epoch 114/200\n",
      "8732/8732 [==============================] - 2s 204us/step - loss: 1373.4539 - val_loss: 2635.0627\n",
      "Epoch 115/200\n",
      "8732/8732 [==============================] - 2s 204us/step - loss: 1388.1789 - val_loss: 1944.3097\n",
      "Epoch 116/200\n",
      "8732/8732 [==============================] - 2s 206us/step - loss: 1396.7369 - val_loss: 2268.0913\n",
      "Epoch 117/200\n",
      "8732/8732 [==============================] - 2s 207us/step - loss: 1366.6177 - val_loss: 1985.4504\n",
      "Epoch 118/200\n",
      "8732/8732 [==============================] - 2s 209us/step - loss: 1374.3655 - val_loss: 2225.9716\n",
      "Epoch 119/200\n",
      "8732/8732 [==============================] - 2s 204us/step - loss: 1403.6809 - val_loss: 2050.2823\n",
      "Epoch 120/200\n",
      "8732/8732 [==============================] - 2s 204us/step - loss: 1381.3301 - val_loss: 2016.7521\n",
      "Epoch 121/200\n",
      "8732/8732 [==============================] - 2s 204us/step - loss: 1349.9924 - val_loss: 2130.0310\n",
      "Epoch 122/200\n",
      "8732/8732 [==============================] - 2s 203us/step - loss: 1380.4172 - val_loss: 2139.7017\n",
      "Epoch 123/200\n",
      "8732/8732 [==============================] - 2s 201us/step - loss: 1358.5974 - val_loss: 2178.7654\n",
      "Epoch 124/200\n",
      "8732/8732 [==============================] - 2s 202us/step - loss: 1336.7550 - val_loss: 2101.0597\n",
      "Epoch 125/200\n",
      "8732/8732 [==============================] - 2s 202us/step - loss: 1339.7991 - val_loss: 2199.2542\n",
      "Epoch 126/200\n",
      "8732/8732 [==============================] - 2s 201us/step - loss: 1343.4815 - val_loss: 2127.9200\n",
      "Epoch 127/200\n",
      "8732/8732 [==============================] - 2s 202us/step - loss: 1339.2480 - val_loss: 2049.1834\n",
      "Epoch 128/200\n",
      "8732/8732 [==============================] - 2s 204us/step - loss: 1337.6486 - val_loss: 2248.4507\n",
      "Epoch 129/200\n",
      "8732/8732 [==============================] - 2s 207us/step - loss: 1319.6530 - val_loss: 1996.9310\n",
      "Epoch 130/200\n",
      "8732/8732 [==============================] - 2s 206us/step - loss: 1343.5904 - val_loss: 1999.9610\n",
      "Epoch 131/200\n",
      "8732/8732 [==============================] - 2s 204us/step - loss: 1350.3625 - val_loss: 2032.1043\n",
      "Epoch 132/200\n",
      "8732/8732 [==============================] - 2s 203us/step - loss: 1321.2938 - val_loss: 2029.8590\n",
      "Epoch 133/200\n",
      "8732/8732 [==============================] - 2s 202us/step - loss: 1348.5373 - val_loss: 2044.5967\n",
      "Epoch 134/200\n",
      "8732/8732 [==============================] - 2s 202us/step - loss: 1304.2041 - val_loss: 2324.8101\n",
      "Epoch 135/200\n",
      "8732/8732 [==============================] - 2s 202us/step - loss: 1293.9704 - val_loss: 2095.0464\n",
      "Epoch 136/200\n",
      "8732/8732 [==============================] - 2s 205us/step - loss: 1308.5126 - val_loss: 2356.5744\n",
      "Epoch 137/200\n",
      "8732/8732 [==============================] - 2s 202us/step - loss: 1277.4502 - val_loss: 2094.7026\n",
      "Epoch 138/200\n",
      "8732/8732 [==============================] - 2s 204us/step - loss: 1293.2567 - val_loss: 2140.7789\n",
      "Epoch 139/200\n",
      "8732/8732 [==============================] - 2s 201us/step - loss: 1257.8721 - val_loss: 2192.8329\n",
      "Epoch 140/200\n",
      "8732/8732 [==============================] - 2s 203us/step - loss: 1320.6724 - val_loss: 2256.9216\n",
      "Epoch 141/200\n",
      "8732/8732 [==============================] - 2s 205us/step - loss: 1271.9969 - val_loss: 2011.0702\n",
      "Epoch 142/200\n",
      "8732/8732 [==============================] - 2s 202us/step - loss: 1296.1413 - val_loss: 2023.4845\n",
      "Epoch 143/200\n",
      "8732/8732 [==============================] - 2s 203us/step - loss: 1260.7590 - val_loss: 2270.1905\n",
      "Epoch 144/200\n",
      "8732/8732 [==============================] - 2s 201us/step - loss: 1279.9300 - val_loss: 2126.2797\n",
      "Epoch 145/200\n",
      "8732/8732 [==============================] - 2s 200us/step - loss: 1314.6410 - val_loss: 2082.9949\n"
     ]
    },
    {
     "name": "stdout",
     "output_type": "stream",
     "text": [
      "Epoch 146/200\n",
      "8732/8732 [==============================] - 2s 201us/step - loss: 1290.1925 - val_loss: 2120.9494\n",
      "Epoch 147/200\n",
      "8732/8732 [==============================] - 2s 203us/step - loss: 1275.5246 - val_loss: 2079.6781\n",
      "Epoch 148/200\n",
      "8732/8732 [==============================] - 2s 200us/step - loss: 1263.1191 - val_loss: 2047.6756\n",
      "Epoch 149/200\n",
      "8732/8732 [==============================] - 2s 205us/step - loss: 1299.8429 - val_loss: 2138.4989\n",
      "Epoch 150/200\n",
      "8732/8732 [==============================] - 2s 207us/step - loss: 1269.6462 - val_loss: 2088.0114\n",
      "Epoch 151/200\n",
      "8732/8732 [==============================] - 2s 206us/step - loss: 1282.9720 - val_loss: 2083.0115\n",
      "Epoch 152/200\n",
      "8732/8732 [==============================] - 2s 206us/step - loss: 1252.6961 - val_loss: 2221.2659\n",
      "Epoch 153/200\n",
      "8732/8732 [==============================] - 2s 206us/step - loss: 1242.4023 - val_loss: 2376.2377\n",
      "Epoch 154/200\n",
      "8732/8732 [==============================] - 2s 203us/step - loss: 1254.5160 - val_loss: 2058.1143\n",
      "Epoch 155/200\n",
      "8732/8732 [==============================] - 2s 205us/step - loss: 1288.9229 - val_loss: 2090.4699\n",
      "Epoch 156/200\n",
      "8732/8732 [==============================] - 2s 202us/step - loss: 1218.6756 - val_loss: 2159.2933\n",
      "Epoch 157/200\n",
      "8732/8732 [==============================] - 2s 202us/step - loss: 1207.7603 - val_loss: 2244.5632\n",
      "Epoch 158/200\n",
      "8732/8732 [==============================] - 2s 204us/step - loss: 1255.5906 - val_loss: 2326.0093\n",
      "Epoch 159/200\n",
      "8732/8732 [==============================] - 2s 205us/step - loss: 1219.4267 - val_loss: 2200.5966\n",
      "Epoch 160/200\n",
      "8732/8732 [==============================] - 2s 207us/step - loss: 1251.1921 - val_loss: 2291.0527\n",
      "Epoch 161/200\n",
      "8732/8732 [==============================] - 2s 203us/step - loss: 1246.2784 - val_loss: 2478.0854\n",
      "Epoch 162/200\n",
      "8732/8732 [==============================] - 2s 209us/step - loss: 1206.3809 - val_loss: 2191.3247\n",
      "Epoch 163/200\n",
      "8732/8732 [==============================] - 2s 207us/step - loss: 1222.5539 - val_loss: 2198.8114\n",
      "Epoch 164/200\n",
      "8732/8732 [==============================] - 2s 204us/step - loss: 1221.8725 - val_loss: 2018.4693\n",
      "Epoch 165/200\n",
      "8732/8732 [==============================] - 2s 203us/step - loss: 1219.2939 - val_loss: 2170.8368\n",
      "Epoch 166/200\n",
      "8732/8732 [==============================] - 2s 206us/step - loss: 1255.3600 - val_loss: 2321.0588\n",
      "Epoch 167/200\n",
      "8732/8732 [==============================] - 2s 203us/step - loss: 1244.1773 - val_loss: 2495.2609\n",
      "Epoch 168/200\n",
      "8732/8732 [==============================] - 2s 201us/step - loss: 1251.2679 - val_loss: 2174.2031\n",
      "Epoch 169/200\n",
      "8732/8732 [==============================] - 2s 210us/step - loss: 1202.1401 - val_loss: 2199.9959\n",
      "Epoch 170/200\n",
      "8732/8732 [==============================] - 2s 209us/step - loss: 1244.6915 - val_loss: 2117.5585\n",
      "Epoch 171/200\n",
      "8732/8732 [==============================] - 2s 211us/step - loss: 1228.2553 - val_loss: 2250.7698\n",
      "Epoch 172/200\n",
      "8732/8732 [==============================] - 2s 205us/step - loss: 1197.3017 - val_loss: 2231.1716\n",
      "Epoch 173/200\n",
      "8732/8732 [==============================] - 2s 203us/step - loss: 1226.3690 - val_loss: 2278.6953\n",
      "Epoch 174/200\n",
      "8732/8732 [==============================] - 2s 203us/step - loss: 1205.4870 - val_loss: 2159.1455\n",
      "Epoch 175/200\n",
      "8732/8732 [==============================] - 2s 202us/step - loss: 1206.7002 - val_loss: 2196.4936\n",
      "Epoch 176/200\n",
      "8732/8732 [==============================] - 2s 201us/step - loss: 1209.8754 - val_loss: 2142.7148\n",
      "Epoch 177/200\n",
      "8732/8732 [==============================] - 2s 201us/step - loss: 1228.4418 - val_loss: 2308.5710\n",
      "Epoch 178/200\n",
      "8732/8732 [==============================] - 2s 200us/step - loss: 1200.5408 - val_loss: 2177.5104\n",
      "Epoch 179/200\n",
      "8732/8732 [==============================] - 2s 199us/step - loss: 1234.9557 - val_loss: 2024.5924\n",
      "Epoch 180/200\n",
      "8732/8732 [==============================] - 2s 200us/step - loss: 1209.5863 - val_loss: 2234.8092\n",
      "Epoch 181/200\n",
      "8732/8732 [==============================] - 2s 204us/step - loss: 1198.4428 - val_loss: 2178.8537\n",
      "Epoch 182/200\n",
      "8732/8732 [==============================] - 2s 203us/step - loss: 1174.5963 - val_loss: 2327.5056\n",
      "Epoch 183/200\n",
      "8732/8732 [==============================] - 2s 206us/step - loss: 1184.5230 - val_loss: 2141.6257\n",
      "Epoch 184/200\n",
      "8732/8732 [==============================] - 2s 204us/step - loss: 1187.7649 - val_loss: 2127.2470\n",
      "Epoch 185/200\n",
      "8732/8732 [==============================] - 2s 202us/step - loss: 1186.4031 - val_loss: 2037.8505\n",
      "Epoch 186/200\n",
      "8732/8732 [==============================] - 2s 203us/step - loss: 1184.8134 - val_loss: 2288.2044\n",
      "Epoch 187/200\n",
      "8732/8732 [==============================] - 2s 202us/step - loss: 1164.5946 - val_loss: 2069.8754\n",
      "Epoch 188/200\n",
      "8732/8732 [==============================] - 2s 201us/step - loss: 1188.1314 - val_loss: 2484.9718\n",
      "Epoch 189/200\n",
      "8732/8732 [==============================] - 2s 203us/step - loss: 1153.9464 - val_loss: 2109.6522\n",
      "Epoch 190/200\n",
      "8732/8732 [==============================] - 2s 202us/step - loss: 1171.3131 - val_loss: 2092.8376\n",
      "Epoch 191/200\n",
      "8732/8732 [==============================] - 2s 204us/step - loss: 1203.3570 - val_loss: 2175.4110\n",
      "Epoch 192/200\n",
      "8732/8732 [==============================] - 2s 204us/step - loss: 1187.8164 - val_loss: 2417.1607\n",
      "Epoch 193/200\n",
      "8732/8732 [==============================] - 2s 205us/step - loss: 1179.0459 - val_loss: 2262.1876\n",
      "Epoch 194/200\n",
      "8732/8732 [==============================] - 2s 206us/step - loss: 1190.4481 - val_loss: 2150.9642\n",
      "Epoch 195/200\n",
      "8732/8732 [==============================] - 2s 204us/step - loss: 1206.3668 - val_loss: 2159.5699\n",
      "Epoch 196/200\n",
      "8732/8732 [==============================] - 2s 202us/step - loss: 1188.0419 - val_loss: 2157.2200\n",
      "Epoch 197/200\n",
      "8732/8732 [==============================] - 2s 201us/step - loss: 1166.5377 - val_loss: 2172.0471\n",
      "Epoch 198/200\n",
      "8732/8732 [==============================] - 2s 203us/step - loss: 1164.0535 - val_loss: 2191.3341\n",
      "Epoch 199/200\n",
      "8732/8732 [==============================] - 2s 201us/step - loss: 1143.1032 - val_loss: 1962.3582\n",
      "Epoch 200/200\n",
      "8732/8732 [==============================] - 2s 204us/step - loss: 1168.5396 - val_loss: 2139.0843\n"
     ]
    },
    {
     "data": {
      "text/plain": [
       "RandomizedSearchCV(cv=5,\n",
       "                   estimator=<keras.wrappers.scikit_learn.KerasRegressor object at 0x000001BB701BF848>,\n",
       "                   n_iter=20, n_jobs=-1,\n",
       "                   param_distributions={'batch_size': [3, 5, 7],\n",
       "                                        'epochs': [150, 200, 250],\n",
       "                                        'n_hidden': [7, 8, 9, 10],\n",
       "                                        'n_neurons': [20, 25, 30]})"
      ]
     },
     "execution_count": 22,
     "metadata": {},
     "output_type": "execute_result"
    }
   ],
   "source": [
    "random_search_cv = RandomizedSearchCV(base_regressor_2,param_take2,n_iter=20,cv=5,n_jobs=-1)\n",
    "random_search_cv.fit(X_train_sub, y_train_sub,\n",
    "                    validation_data=(X_valid,y_valid))"
   ]
  },
  {
   "cell_type": "code",
   "execution_count": 23,
   "metadata": {},
   "outputs": [
    {
     "data": {
      "text/plain": [
       "{'n_neurons': 30, 'n_hidden': 8, 'epochs': 200, 'batch_size': 5}"
      ]
     },
     "execution_count": 23,
     "metadata": {},
     "output_type": "execute_result"
    }
   ],
   "source": [
    "random_search_cv.best_params_"
   ]
  },
  {
   "cell_type": "code",
   "execution_count": 24,
   "metadata": {},
   "outputs": [
    {
     "data": {
      "text/plain": [
       "-2197.8784861523322"
      ]
     },
     "execution_count": 24,
     "metadata": {},
     "output_type": "execute_result"
    }
   ],
   "source": [
    "random_search_cv.best_score_"
   ]
  },
  {
   "cell_type": "code",
   "execution_count": 25,
   "metadata": {},
   "outputs": [],
   "source": [
    "best_NN_model_v2 = random_search_cv.best_estimator_.model\n",
    "y_nn_pred_v2 = best_NN_model_v2.predict(x_test)"
   ]
  },
  {
   "cell_type": "code",
   "execution_count": 30,
   "metadata": {},
   "outputs": [
    {
     "data": {
      "text/plain": [
       "<matplotlib.legend.Legend at 0x1bb72316548>"
      ]
     },
     "execution_count": 30,
     "metadata": {},
     "output_type": "execute_result"
    },
    {
     "data": {
      "image/png": "[encoded data removed]",
      "text/plain": [
       "<Figure size 432x288 with 1 Axes>"
      ]
     },
     "metadata": {
      "needs_background": "light"
     },
     "output_type": "display_data"
    }
   ],
   "source": [
    "plt.plot(best_NN_model_v2.history.history['loss'])\n",
    "plt.plot(best_NN_model_v2.history.history['val_loss'])\n",
    "plt.title('model loss')\n",
    "plt.ylabel('loss')\n",
    "plt.xlabel('epoch')\n",
    "plt.legend(['train', 'test'], loc='upper left')"
   ]
  },
  {
   "cell_type": "code",
   "execution_count": 31,
   "metadata": {},
   "outputs": [
    {
     "data": {
      "text/plain": [
       "Text(0, 0.5, 'Bike Count predicted')"
      ]
     },
     "execution_count": 31,
     "metadata": {},
     "output_type": "execute_result"
    },
    {
     "data": {
      "image/png": "[encoded data removed]",
      "text/plain": [
       "<Figure size 720x360 with 1 Axes>"
      ]
     },
     "metadata": {
      "needs_background": "light"
     },
     "output_type": "display_data"
    }
   ],
   "source": [
    "plt.figure(figsize=(10,5))\n",
    "_ = plt.title('ANN_V2')\n",
    "plt.plot(y_test,y_nn_pred_v2,\n",
    "         linestyle='none',\n",
    "         marker='o',\n",
    "         mfc='none',\n",
    "         mec='k',\n",
    "        alpha=0.5,\n",
    "        ms=1)\n",
    "plt.plot(np.linspace(0,max(y_test)),np.linspace(0,max(y_nn_pred_v2)))\n",
    "plt.xlabel('Bike Count acutal')\n",
    "plt.ylabel('Bike Count predicted')\n"
   ]
  },
  {
   "cell_type": "markdown",
   "metadata": {},
   "source": [
    "The second ANN does a much better job than the first NN, although there appears to be some degree of overfitting based on the history plot. To solve this I would consider adding a dropout later to the model."
   ]
  },
  {
   "cell_type": "code",
   "execution_count": 36,
   "metadata": {},
   "outputs": [],
   "source": [
    "ANN_misfit = sum((y_test - y_nn_pred_v2.flatten())**2)"
   ]
  },
  {
   "cell_type": "code",
   "execution_count": 37,
   "metadata": {},
   "outputs": [
    {
     "data": {
      "text/plain": [
       "11452618.239085604"
      ]
     },
     "execution_count": 37,
     "metadata": {},
     "output_type": "execute_result"
    }
   ],
   "source": [
    "ANN_misfit"
   ]
  },
  {
   "cell_type": "code",
   "execution_count": 38,
   "metadata": {},
   "outputs": [
    {
     "data": {
      "text/plain": [
       "15731912.656766718"
      ]
     },
     "execution_count": 38,
     "metadata": {},
     "output_type": "execute_result"
    }
   ],
   "source": [
    "tree_misfit"
   ]
  },
  {
   "cell_type": "code",
   "execution_count": 52,
   "metadata": {},
   "outputs": [
    {
     "data": {
      "image/png": "[encoded data removed]",
      "text/plain": [
       "<Figure size 432x288 with 1 Axes>"
      ]
     },
     "metadata": {
      "needs_background": "light"
     },
     "output_type": "display_data"
    }
   ],
   "source": [
    "plt.bar(x =['ANN_misfit','tree_misfit','LR_misfit'], height=[ANN_misfit,tree_misfit,LR_misfit],\n",
    "       color=sns.color_palette('Pastel1'),\n",
    "       edgecolor='k')\n",
    "_ = plt.ylabel('MSE')\n",
    "_ = plt.grid()"
   ]
  },
  {
   "cell_type": "markdown",
   "metadata": {},
   "source": [
    "We can see from the above that the ANN does the best job at predicting bike rentals, followed closely by the decision tree."
   ]
  },
  {
   "cell_type": "code",
   "execution_count": null,
   "metadata": {},
   "outputs": [],
   "source": []
  }
 ],
 "metadata": {
  "kernelspec": {
   "display_name": "Python 3",
   "language": "python",
   "name": "python3"
  },
  "language_info": {
   "codemirror_mode": {
    "name": "ipython",
    "version": 3
   },
   "file_extension": ".py",
   "mimetype": "text/x-python",
   "name": "python",
   "nbconvert_exporter": "python",
   "pygments_lexer": "ipython3",
   "version": "3.7.7"
  }
 },
 "nbformat": 4,
 "nbformat_minor": 4
}
